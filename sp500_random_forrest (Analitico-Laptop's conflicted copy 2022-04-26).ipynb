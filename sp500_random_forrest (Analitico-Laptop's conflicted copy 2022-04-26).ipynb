{
 "cells": [
  {
   "cell_type": "code",
   "execution_count": 1,
   "metadata": {},
   "outputs": [
    {
     "ename": "ImportError",
     "evalue": "cannot import name 'Markup' from 'jinja2' (C:\\Users\\jtoll\\.conda\\envs\\dev\\lib\\site-packages\\jinja2\\__init__.py)",
     "output_type": "error",
     "traceback": [
      "\u001b[1;31m---------------------------------------------------------------------------\u001b[0m",
      "\u001b[1;31mImportError\u001b[0m                               Traceback (most recent call last)",
      "\u001b[1;32mc:\\Users\\jtoll\\Dropbox\\berkeley\\2nd_project_files\\sp500_random_forrest.ipynb Cell 1'\u001b[0m in \u001b[0;36m<cell line: 5>\u001b[1;34m()\u001b[0m\n\u001b[0;32m      <a href='vscode-notebook-cell:/c%3A/Users/jtoll/Dropbox/berkeley/2nd_project_files/sp500_random_forrest.ipynb#ch0000000?line=2'>3</a>\u001b[0m \u001b[39mimport\u001b[39;00m \u001b[39mnumpy\u001b[39;00m \u001b[39mas\u001b[39;00m \u001b[39mnp\u001b[39;00m\n\u001b[0;32m      <a href='vscode-notebook-cell:/c%3A/Users/jtoll/Dropbox/berkeley/2nd_project_files/sp500_random_forrest.ipynb#ch0000000?line=3'>4</a>\u001b[0m \u001b[39mfrom\u001b[39;00m \u001b[39mpathlib\u001b[39;00m \u001b[39mimport\u001b[39;00m Path\n\u001b[1;32m----> <a href='vscode-notebook-cell:/c%3A/Users/jtoll/Dropbox/berkeley/2nd_project_files/sp500_random_forrest.ipynb#ch0000000?line=4'>5</a>\u001b[0m \u001b[39mimport\u001b[39;00m \u001b[39mhvplot\u001b[39;00m\u001b[39m.\u001b[39;00m\u001b[39mpandas\u001b[39;00m\n\u001b[0;32m      <a href='vscode-notebook-cell:/c%3A/Users/jtoll/Dropbox/berkeley/2nd_project_files/sp500_random_forrest.ipynb#ch0000000?line=5'>6</a>\u001b[0m \u001b[39mimport\u001b[39;00m \u001b[39mmatplotlib\u001b[39;00m\u001b[39m.\u001b[39;00m\u001b[39mpyplot\u001b[39;00m \u001b[39mas\u001b[39;00m \u001b[39mplt\u001b[39;00m\n\u001b[0;32m      <a href='vscode-notebook-cell:/c%3A/Users/jtoll/Dropbox/berkeley/2nd_project_files/sp500_random_forrest.ipynb#ch0000000?line=6'>7</a>\u001b[0m \u001b[39mimport\u001b[39;00m \u001b[39msqlalchemy\u001b[39;00m\n",
      "File \u001b[1;32m~\\.conda\\envs\\dev\\lib\\site-packages\\hvplot\\__init__.py:8\u001b[0m, in \u001b[0;36m<module>\u001b[1;34m\u001b[0m\n\u001b[0;32m      <a href='file:///c%3A/Users/jtoll/.conda/envs/dev/lib/site-packages/hvplot/__init__.py?line=4'>5</a>\u001b[0m \u001b[39mimport\u001b[39;00m \u001b[39mtextwrap\u001b[39;00m\n\u001b[0;32m      <a href='file:///c%3A/Users/jtoll/.conda/envs/dev/lib/site-packages/hvplot/__init__.py?line=6'>7</a>\u001b[0m \u001b[39mimport\u001b[39;00m \u001b[39mparam\u001b[39;00m\n\u001b[1;32m----> <a href='file:///c%3A/Users/jtoll/.conda/envs/dev/lib/site-packages/hvplot/__init__.py?line=7'>8</a>\u001b[0m \u001b[39mimport\u001b[39;00m \u001b[39mholoviews\u001b[39;00m \u001b[39mas\u001b[39;00m \u001b[39m_hv\u001b[39;00m\n\u001b[0;32m     <a href='file:///c%3A/Users/jtoll/.conda/envs/dev/lib/site-packages/hvplot/__init__.py?line=9'>10</a>\u001b[0m \u001b[39mfrom\u001b[39;00m \u001b[39mholoviews\u001b[39;00m \u001b[39mimport\u001b[39;00m Store\n\u001b[0;32m     <a href='file:///c%3A/Users/jtoll/.conda/envs/dev/lib/site-packages/hvplot/__init__.py?line=11'>12</a>\u001b[0m \u001b[39mfrom\u001b[39;00m \u001b[39m.\u001b[39;00m\u001b[39mconverter\u001b[39;00m \u001b[39mimport\u001b[39;00m HoloViewsConverter\n",
      "File \u001b[1;32m~\\.conda\\envs\\dev\\lib\\site-packages\\holoviews\\__init__.py:12\u001b[0m, in \u001b[0;36m<module>\u001b[1;34m\u001b[0m\n\u001b[0;32m      <a href='file:///c%3A/Users/jtoll/.conda/envs/dev/lib/site-packages/holoviews/__init__.py?line=7'>8</a>\u001b[0m __version__ \u001b[39m=\u001b[39m \u001b[39mstr\u001b[39m(param\u001b[39m.\u001b[39mversion\u001b[39m.\u001b[39mVersion(fpath\u001b[39m=\u001b[39m\u001b[39m__file__\u001b[39m, archive_commit\u001b[39m=\u001b[39m\u001b[39m\"\u001b[39m\u001b[39m$Format:\u001b[39m\u001b[39m%\u001b[39m\u001b[39mh$\u001b[39m\u001b[39m\"\u001b[39m,\n\u001b[0;32m      <a href='file:///c%3A/Users/jtoll/.conda/envs/dev/lib/site-packages/holoviews/__init__.py?line=8'>9</a>\u001b[0m                                         reponame\u001b[39m=\u001b[39m\u001b[39m\"\u001b[39m\u001b[39mholoviews\u001b[39m\u001b[39m\"\u001b[39m))\n\u001b[0;32m     <a href='file:///c%3A/Users/jtoll/.conda/envs/dev/lib/site-packages/holoviews/__init__.py?line=10'>11</a>\u001b[0m \u001b[39mfrom\u001b[39;00m \u001b[39m.\u001b[39;00m \u001b[39mimport\u001b[39;00m util                                       \u001b[39m# noqa (API import)\u001b[39;00m\n\u001b[1;32m---> <a href='file:///c%3A/Users/jtoll/.conda/envs/dev/lib/site-packages/holoviews/__init__.py?line=11'>12</a>\u001b[0m \u001b[39mfrom\u001b[39;00m \u001b[39m.\u001b[39;00m\u001b[39mannotators\u001b[39;00m \u001b[39mimport\u001b[39;00m annotate                         \u001b[39m# noqa (API import)\u001b[39;00m\n\u001b[0;32m     <a href='file:///c%3A/Users/jtoll/.conda/envs/dev/lib/site-packages/holoviews/__init__.py?line=12'>13</a>\u001b[0m \u001b[39mfrom\u001b[39;00m \u001b[39m.\u001b[39;00m\u001b[39mcore\u001b[39;00m \u001b[39mimport\u001b[39;00m archive, config                        \u001b[39m# noqa (API import)\u001b[39;00m\n\u001b[0;32m     <a href='file:///c%3A/Users/jtoll/.conda/envs/dev/lib/site-packages/holoviews/__init__.py?line=13'>14</a>\u001b[0m \u001b[39mfrom\u001b[39;00m \u001b[39m.\u001b[39;00m\u001b[39mcore\u001b[39;00m\u001b[39m.\u001b[39;00m\u001b[39mboundingregion\u001b[39;00m \u001b[39mimport\u001b[39;00m BoundingBox             \u001b[39m# noqa (API import)\u001b[39;00m\n",
      "File \u001b[1;32m~\\.conda\\envs\\dev\\lib\\site-packages\\holoviews\\annotators.py:10\u001b[0m, in \u001b[0;36m<module>\u001b[1;34m\u001b[0m\n\u001b[0;32m      <a href='file:///c%3A/Users/jtoll/.conda/envs/dev/lib/site-packages/holoviews/annotators.py?line=5'>6</a>\u001b[0m \u001b[39mfrom\u001b[39;00m \u001b[39minspect\u001b[39;00m \u001b[39mimport\u001b[39;00m getmro\n\u001b[0;32m      <a href='file:///c%3A/Users/jtoll/.conda/envs/dev/lib/site-packages/holoviews/annotators.py?line=7'>8</a>\u001b[0m \u001b[39mimport\u001b[39;00m \u001b[39mparam\u001b[39;00m\n\u001b[1;32m---> <a href='file:///c%3A/Users/jtoll/.conda/envs/dev/lib/site-packages/holoviews/annotators.py?line=9'>10</a>\u001b[0m \u001b[39mfrom\u001b[39;00m \u001b[39mpanel\u001b[39;00m\u001b[39m.\u001b[39;00m\u001b[39mpane\u001b[39;00m \u001b[39mimport\u001b[39;00m PaneBase\n\u001b[0;32m     <a href='file:///c%3A/Users/jtoll/.conda/envs/dev/lib/site-packages/holoviews/annotators.py?line=10'>11</a>\u001b[0m \u001b[39mfrom\u001b[39;00m \u001b[39mpanel\u001b[39;00m\u001b[39m.\u001b[39;00m\u001b[39mlayout\u001b[39;00m \u001b[39mimport\u001b[39;00m Row, Tabs\n\u001b[0;32m     <a href='file:///c%3A/Users/jtoll/.conda/envs/dev/lib/site-packages/holoviews/annotators.py?line=11'>12</a>\u001b[0m \u001b[39mfrom\u001b[39;00m \u001b[39mpanel\u001b[39;00m\u001b[39m.\u001b[39;00m\u001b[39mutil\u001b[39;00m \u001b[39mimport\u001b[39;00m param_name\n",
      "File \u001b[1;32m~\\.conda\\envs\\dev\\lib\\site-packages\\panel\\__init__.py:1\u001b[0m, in \u001b[0;36m<module>\u001b[1;34m\u001b[0m\n\u001b[1;32m----> <a href='file:///c%3A/Users/jtoll/.conda/envs/dev/lib/site-packages/panel/__init__.py?line=0'>1</a>\u001b[0m \u001b[39mfrom\u001b[39;00m \u001b[39m.\u001b[39;00m \u001b[39mimport\u001b[39;00m layout \u001b[39m# noqa\u001b[39;00m\n\u001b[0;32m      <a href='file:///c%3A/Users/jtoll/.conda/envs/dev/lib/site-packages/panel/__init__.py?line=1'>2</a>\u001b[0m \u001b[39mfrom\u001b[39;00m \u001b[39m.\u001b[39;00m \u001b[39mimport\u001b[39;00m links \u001b[39m# noqa\u001b[39;00m\n\u001b[0;32m      <a href='file:///c%3A/Users/jtoll/.conda/envs/dev/lib/site-packages/panel/__init__.py?line=2'>3</a>\u001b[0m \u001b[39mfrom\u001b[39;00m \u001b[39m.\u001b[39;00m \u001b[39mimport\u001b[39;00m pane \u001b[39m# noqa\u001b[39;00m\n",
      "File \u001b[1;32m~\\.conda\\envs\\dev\\lib\\site-packages\\panel\\layout\\__init__.py:1\u001b[0m, in \u001b[0;36m<module>\u001b[1;34m\u001b[0m\n\u001b[1;32m----> <a href='file:///c%3A/Users/jtoll/.conda/envs/dev/lib/site-packages/panel/layout/__init__.py?line=0'>1</a>\u001b[0m \u001b[39mfrom\u001b[39;00m \u001b[39m.\u001b[39;00m\u001b[39maccordion\u001b[39;00m \u001b[39mimport\u001b[39;00m Accordion \u001b[39m# noqa\u001b[39;00m\n\u001b[0;32m      <a href='file:///c%3A/Users/jtoll/.conda/envs/dev/lib/site-packages/panel/layout/__init__.py?line=1'>2</a>\u001b[0m \u001b[39mfrom\u001b[39;00m \u001b[39m.\u001b[39;00m\u001b[39mbase\u001b[39;00m \u001b[39mimport\u001b[39;00m Column, ListLike, ListPanel, Panel, Row, WidgetBox \u001b[39m# noqa\u001b[39;00m\n\u001b[0;32m      <a href='file:///c%3A/Users/jtoll/.conda/envs/dev/lib/site-packages/panel/layout/__init__.py?line=2'>3</a>\u001b[0m \u001b[39mfrom\u001b[39;00m \u001b[39m.\u001b[39;00m\u001b[39mcard\u001b[39;00m \u001b[39mimport\u001b[39;00m Card \u001b[39m# noqa\u001b[39;00m\n",
      "File \u001b[1;32m~\\.conda\\envs\\dev\\lib\\site-packages\\panel\\layout\\accordion.py:5\u001b[0m, in \u001b[0;36m<module>\u001b[1;34m\u001b[0m\n\u001b[0;32m      <a href='file:///c%3A/Users/jtoll/.conda/envs/dev/lib/site-packages/panel/layout/accordion.py?line=0'>1</a>\u001b[0m \u001b[39mimport\u001b[39;00m \u001b[39mparam\u001b[39;00m\n\u001b[0;32m      <a href='file:///c%3A/Users/jtoll/.conda/envs/dev/lib/site-packages/panel/layout/accordion.py?line=2'>3</a>\u001b[0m \u001b[39mfrom\u001b[39;00m \u001b[39mbokeh\u001b[39;00m\u001b[39m.\u001b[39;00m\u001b[39mmodels\u001b[39;00m \u001b[39mimport\u001b[39;00m Column \u001b[39mas\u001b[39;00m BkColumn, CustomJS\n\u001b[1;32m----> <a href='file:///c%3A/Users/jtoll/.conda/envs/dev/lib/site-packages/panel/layout/accordion.py?line=4'>5</a>\u001b[0m \u001b[39mfrom\u001b[39;00m \u001b[39m.\u001b[39;00m\u001b[39mbase\u001b[39;00m \u001b[39mimport\u001b[39;00m NamedListPanel\n\u001b[0;32m      <a href='file:///c%3A/Users/jtoll/.conda/envs/dev/lib/site-packages/panel/layout/accordion.py?line=5'>6</a>\u001b[0m \u001b[39mfrom\u001b[39;00m \u001b[39m.\u001b[39;00m\u001b[39mcard\u001b[39;00m \u001b[39mimport\u001b[39;00m Card\n\u001b[0;32m      <a href='file:///c%3A/Users/jtoll/.conda/envs/dev/lib/site-packages/panel/layout/accordion.py?line=8'>9</a>\u001b[0m \u001b[39mclass\u001b[39;00m \u001b[39mAccordion\u001b[39;00m(NamedListPanel):\n",
      "File \u001b[1;32m~\\.conda\\envs\\dev\\lib\\site-packages\\panel\\layout\\base.py:11\u001b[0m, in \u001b[0;36m<module>\u001b[1;34m\u001b[0m\n\u001b[0;32m      <a href='file:///c%3A/Users/jtoll/.conda/envs/dev/lib/site-packages/panel/layout/base.py?line=6'>7</a>\u001b[0m \u001b[39mimport\u001b[39;00m \u001b[39mparam\u001b[39;00m\n\u001b[0;32m      <a href='file:///c%3A/Users/jtoll/.conda/envs/dev/lib/site-packages/panel/layout/base.py?line=8'>9</a>\u001b[0m \u001b[39mfrom\u001b[39;00m \u001b[39mbokeh\u001b[39;00m\u001b[39m.\u001b[39;00m\u001b[39mmodels\u001b[39;00m \u001b[39mimport\u001b[39;00m Column \u001b[39mas\u001b[39;00m BkColumn, Row \u001b[39mas\u001b[39;00m BkRow\n\u001b[1;32m---> <a href='file:///c%3A/Users/jtoll/.conda/envs/dev/lib/site-packages/panel/layout/base.py?line=10'>11</a>\u001b[0m \u001b[39mfrom\u001b[39;00m \u001b[39m.\u001b[39;00m\u001b[39m.\u001b[39;00m\u001b[39mio\u001b[39;00m\u001b[39m.\u001b[39;00m\u001b[39mmodel\u001b[39;00m \u001b[39mimport\u001b[39;00m hold\n\u001b[0;32m     <a href='file:///c%3A/Users/jtoll/.conda/envs/dev/lib/site-packages/panel/layout/base.py?line=11'>12</a>\u001b[0m \u001b[39mfrom\u001b[39;00m \u001b[39m.\u001b[39;00m\u001b[39m.\u001b[39;00m\u001b[39mio\u001b[39;00m\u001b[39m.\u001b[39;00m\u001b[39mstate\u001b[39;00m \u001b[39mimport\u001b[39;00m state\n\u001b[0;32m     <a href='file:///c%3A/Users/jtoll/.conda/envs/dev/lib/site-packages/panel/layout/base.py?line=12'>13</a>\u001b[0m \u001b[39mfrom\u001b[39;00m \u001b[39m.\u001b[39;00m\u001b[39m.\u001b[39;00m\u001b[39mreactive\u001b[39;00m \u001b[39mimport\u001b[39;00m Reactive\n",
      "File \u001b[1;32m~\\.conda\\envs\\dev\\lib\\site-packages\\panel\\io\\__init__.py:9\u001b[0m, in \u001b[0;36m<module>\u001b[1;34m\u001b[0m\n\u001b[0;32m      <a href='file:///c%3A/Users/jtoll/.conda/envs/dev/lib/site-packages/panel/io/__init__.py?line=5'>6</a>\u001b[0m \u001b[39mimport\u001b[39;00m \u001b[39mlogging\u001b[39;00m\n\u001b[0;32m      <a href='file:///c%3A/Users/jtoll/.conda/envs/dev/lib/site-packages/panel/io/__init__.py?line=6'>7</a>\u001b[0m \u001b[39mimport\u001b[39;00m \u001b[39msys\u001b[39;00m\n\u001b[1;32m----> <a href='file:///c%3A/Users/jtoll/.conda/envs/dev/lib/site-packages/panel/io/__init__.py?line=8'>9</a>\u001b[0m \u001b[39mfrom\u001b[39;00m \u001b[39m.\u001b[39;00m\u001b[39m.\u001b[39;00m\u001b[39mconfig\u001b[39;00m \u001b[39mimport\u001b[39;00m config\n\u001b[0;32m     <a href='file:///c%3A/Users/jtoll/.conda/envs/dev/lib/site-packages/panel/io/__init__.py?line=10'>11</a>\u001b[0m \u001b[39mfrom\u001b[39;00m \u001b[39m.\u001b[39;00m\u001b[39mcallbacks\u001b[39;00m \u001b[39mimport\u001b[39;00m PeriodicCallback \u001b[39m# noqa\u001b[39;00m\n\u001b[0;32m     <a href='file:///c%3A/Users/jtoll/.conda/envs/dev/lib/site-packages/panel/io/__init__.py?line=11'>12</a>\u001b[0m \u001b[39mfrom\u001b[39;00m \u001b[39m.\u001b[39;00m\u001b[39membed\u001b[39;00m \u001b[39mimport\u001b[39;00m embed_state \u001b[39m# noqa\u001b[39;00m\n",
      "File \u001b[1;32m~\\.conda\\envs\\dev\\lib\\site-packages\\panel\\config.py:21\u001b[0m, in \u001b[0;36m<module>\u001b[1;34m\u001b[0m\n\u001b[0;32m     <a href='file:///c%3A/Users/jtoll/.conda/envs/dev/lib/site-packages/panel/config.py?line=14'>15</a>\u001b[0m \u001b[39mimport\u001b[39;00m \u001b[39mparam\u001b[39;00m\n\u001b[0;32m     <a href='file:///c%3A/Users/jtoll/.conda/envs/dev/lib/site-packages/panel/config.py?line=16'>17</a>\u001b[0m \u001b[39mfrom\u001b[39;00m \u001b[39mpyviz_comms\u001b[39;00m \u001b[39mimport\u001b[39;00m (\n\u001b[0;32m     <a href='file:///c%3A/Users/jtoll/.conda/envs/dev/lib/site-packages/panel/config.py?line=17'>18</a>\u001b[0m     JupyterCommManager \u001b[39mas\u001b[39;00m _JupyterCommManager, extension \u001b[39mas\u001b[39;00m _pyviz_extension\n\u001b[0;32m     <a href='file:///c%3A/Users/jtoll/.conda/envs/dev/lib/site-packages/panel/config.py?line=18'>19</a>\u001b[0m )\n\u001b[1;32m---> <a href='file:///c%3A/Users/jtoll/.conda/envs/dev/lib/site-packages/panel/config.py?line=20'>21</a>\u001b[0m \u001b[39mfrom\u001b[39;00m \u001b[39m.\u001b[39;00m\u001b[39mio\u001b[39;00m\u001b[39m.\u001b[39;00m\u001b[39mnotebook\u001b[39;00m \u001b[39mimport\u001b[39;00m load_notebook\n\u001b[0;32m     <a href='file:///c%3A/Users/jtoll/.conda/envs/dev/lib/site-packages/panel/config.py?line=21'>22</a>\u001b[0m \u001b[39mfrom\u001b[39;00m \u001b[39m.\u001b[39;00m\u001b[39mio\u001b[39;00m\u001b[39m.\u001b[39;00m\u001b[39mstate\u001b[39;00m \u001b[39mimport\u001b[39;00m state\n\u001b[0;32m     <a href='file:///c%3A/Users/jtoll/.conda/envs/dev/lib/site-packages/panel/config.py?line=23'>24</a>\u001b[0m __version__ \u001b[39m=\u001b[39m \u001b[39mstr\u001b[39m(param\u001b[39m.\u001b[39mversion\u001b[39m.\u001b[39mVersion(\n\u001b[0;32m     <a href='file:///c%3A/Users/jtoll/.conda/envs/dev/lib/site-packages/panel/config.py?line=24'>25</a>\u001b[0m     fpath\u001b[39m=\u001b[39m\u001b[39m__file__\u001b[39m, archive_commit\u001b[39m=\u001b[39m\u001b[39m\"\u001b[39m\u001b[39m$Format:\u001b[39m\u001b[39m%\u001b[39m\u001b[39mh$\u001b[39m\u001b[39m\"\u001b[39m, reponame\u001b[39m=\u001b[39m\u001b[39m\"\u001b[39m\u001b[39mpanel\u001b[39m\u001b[39m\"\u001b[39m))\n",
      "File \u001b[1;32m~\\.conda\\envs\\dev\\lib\\site-packages\\panel\\io\\notebook.py:39\u001b[0m, in \u001b[0;36m<module>\u001b[1;34m\u001b[0m\n\u001b[0;32m     <a href='file:///c%3A/Users/jtoll/.conda/envs/dev/lib/site-packages/panel/io/notebook.py?line=36'>37</a>\u001b[0m \u001b[39mfrom\u001b[39;00m \u001b[39m.\u001b[39;00m\u001b[39membed\u001b[39;00m \u001b[39mimport\u001b[39;00m embed_state\n\u001b[0;32m     <a href='file:///c%3A/Users/jtoll/.conda/envs/dev/lib/site-packages/panel/io/notebook.py?line=37'>38</a>\u001b[0m \u001b[39mfrom\u001b[39;00m \u001b[39m.\u001b[39;00m\u001b[39mmodel\u001b[39;00m \u001b[39mimport\u001b[39;00m add_to_doc, diff\n\u001b[1;32m---> <a href='file:///c%3A/Users/jtoll/.conda/envs/dev/lib/site-packages/panel/io/notebook.py?line=38'>39</a>\u001b[0m \u001b[39mfrom\u001b[39;00m \u001b[39m.\u001b[39;00m\u001b[39mresources\u001b[39;00m \u001b[39mimport\u001b[39;00m Bundle, Resources, _env, bundle_resources\n\u001b[0;32m     <a href='file:///c%3A/Users/jtoll/.conda/envs/dev/lib/site-packages/panel/io/notebook.py?line=39'>40</a>\u001b[0m \u001b[39mfrom\u001b[39;00m \u001b[39m.\u001b[39;00m\u001b[39mserver\u001b[39;00m \u001b[39mimport\u001b[39;00m _server_url, _origin_url, get_server\n\u001b[0;32m     <a href='file:///c%3A/Users/jtoll/.conda/envs/dev/lib/site-packages/panel/io/notebook.py?line=40'>41</a>\u001b[0m \u001b[39mfrom\u001b[39;00m \u001b[39m.\u001b[39;00m\u001b[39mstate\u001b[39;00m \u001b[39mimport\u001b[39;00m state\n",
      "File \u001b[1;32m~\\.conda\\envs\\dev\\lib\\site-packages\\panel\\io\\resources.py:24\u001b[0m, in \u001b[0;36m<module>\u001b[1;34m\u001b[0m\n\u001b[0;32m     <a href='file:///c%3A/Users/jtoll/.conda/envs/dev/lib/site-packages/panel/io/resources.py?line=21'>22</a>\u001b[0m \u001b[39mfrom\u001b[39;00m \u001b[39mbokeh\u001b[39;00m\u001b[39m.\u001b[39;00m\u001b[39mresources\u001b[39;00m \u001b[39mimport\u001b[39;00m Resources \u001b[39mas\u001b[39;00m BkResources\n\u001b[0;32m     <a href='file:///c%3A/Users/jtoll/.conda/envs/dev/lib/site-packages/panel/io/resources.py?line=22'>23</a>\u001b[0m \u001b[39mfrom\u001b[39;00m \u001b[39mbokeh\u001b[39;00m\u001b[39m.\u001b[39;00m\u001b[39msettings\u001b[39;00m \u001b[39mimport\u001b[39;00m settings \u001b[39mas\u001b[39;00m _settings\n\u001b[1;32m---> <a href='file:///c%3A/Users/jtoll/.conda/envs/dev/lib/site-packages/panel/io/resources.py?line=23'>24</a>\u001b[0m \u001b[39mfrom\u001b[39;00m \u001b[39mjinja2\u001b[39;00m \u001b[39mimport\u001b[39;00m Environment, Markup, FileSystemLoader\n\u001b[0;32m     <a href='file:///c%3A/Users/jtoll/.conda/envs/dev/lib/site-packages/panel/io/resources.py?line=25'>26</a>\u001b[0m \u001b[39mfrom\u001b[39;00m \u001b[39m.\u001b[39;00m\u001b[39m.\u001b[39;00m\u001b[39mutil\u001b[39;00m \u001b[39mimport\u001b[39;00m url_path\n\u001b[0;32m     <a href='file:///c%3A/Users/jtoll/.conda/envs/dev/lib/site-packages/panel/io/resources.py?line=26'>27</a>\u001b[0m \u001b[39mfrom\u001b[39;00m \u001b[39m.\u001b[39;00m\u001b[39mstate\u001b[39;00m \u001b[39mimport\u001b[39;00m state\n",
      "\u001b[1;31mImportError\u001b[0m: cannot import name 'Markup' from 'jinja2' (C:\\Users\\jtoll\\.conda\\envs\\dev\\lib\\site-packages\\jinja2\\__init__.py)"
     ]
    }
   ],
   "source": [
    "# Imports\n",
    "import pandas as pd\n",
    "import numpy as np\n",
    "from pathlib import Path\n",
    "import hvplot.pandas\n",
    "import matplotlib.pyplot as plt\n",
    "import sqlalchemy\n",
    "from sklearn.ensemble import RandomForestClassifier\n",
    "from sklearn.metrics import classification_report\n",
    "from sklearn.metrics import balanced_accuracy_score\n",
    "from sklearn.metrics import confusion_matrix\n",
    "from imblearn.metrics import classification_report_imbalanced\n",
    "from sklearn.metrics import roc_curve\n",
    "from utils.random_forest import (\n",
    "    get_importance,\n",
    "    get_train_split\n",
    ")"
   ]
  },
  {
   "cell_type": "code",
   "execution_count": null,
   "metadata": {},
   "outputs": [
    {
     "data": {
      "text/html": [
       "<div>\n",
       "<style scoped>\n",
       "    .dataframe tbody tr th:only-of-type {\n",
       "        vertical-align: middle;\n",
       "    }\n",
       "\n",
       "    .dataframe tbody tr th {\n",
       "        vertical-align: top;\n",
       "    }\n",
       "\n",
       "    .dataframe thead th {\n",
       "        text-align: right;\n",
       "    }\n",
       "</style>\n",
       "<table border=\"1\" class=\"dataframe\">\n",
       "  <thead>\n",
       "    <tr style=\"text-align: right;\">\n",
       "      <th></th>\n",
       "      <th>Industrials</th>\n",
       "      <th>Health Care</th>\n",
       "      <th>Information Technology</th>\n",
       "      <th>Communication Services</th>\n",
       "      <th>Consumer Staples</th>\n",
       "      <th>Consumer Discretionary</th>\n",
       "      <th>Utilities</th>\n",
       "      <th>Financials</th>\n",
       "      <th>Materials</th>\n",
       "      <th>Real Estate</th>\n",
       "      <th>Energy</th>\n",
       "      <th>SPY</th>\n",
       "      <th>SPY Returns</th>\n",
       "    </tr>\n",
       "    <tr>\n",
       "      <th>timestamp</th>\n",
       "      <th></th>\n",
       "      <th></th>\n",
       "      <th></th>\n",
       "      <th></th>\n",
       "      <th></th>\n",
       "      <th></th>\n",
       "      <th></th>\n",
       "      <th></th>\n",
       "      <th></th>\n",
       "      <th></th>\n",
       "      <th></th>\n",
       "      <th></th>\n",
       "      <th></th>\n",
       "    </tr>\n",
       "  </thead>\n",
       "  <tbody>\n",
       "    <tr>\n",
       "      <th>2021-04-19 04:00:00</th>\n",
       "      <td>-0.004149</td>\n",
       "      <td>-0.000356</td>\n",
       "      <td>-0.009452</td>\n",
       "      <td>-0.002727</td>\n",
       "      <td>-0.002429</td>\n",
       "      <td>-0.007847</td>\n",
       "      <td>-0.005995</td>\n",
       "      <td>-0.003404</td>\n",
       "      <td>-0.005562</td>\n",
       "      <td>0.002253</td>\n",
       "      <td>-0.001944</td>\n",
       "      <td>0.0</td>\n",
       "      <td>NaN</td>\n",
       "    </tr>\n",
       "    <tr>\n",
       "      <th>2021-04-20 04:00:00</th>\n",
       "      <td>-0.008910</td>\n",
       "      <td>0.002328</td>\n",
       "      <td>-0.005653</td>\n",
       "      <td>-0.007387</td>\n",
       "      <td>0.009700</td>\n",
       "      <td>-0.015166</td>\n",
       "      <td>0.012631</td>\n",
       "      <td>-0.011951</td>\n",
       "      <td>-0.008709</td>\n",
       "      <td>0.011858</td>\n",
       "      <td>-0.025533</td>\n",
       "      <td>1.0</td>\n",
       "      <td>0.009462</td>\n",
       "    </tr>\n",
       "    <tr>\n",
       "      <th>2021-04-21 04:00:00</th>\n",
       "      <td>0.014615</td>\n",
       "      <td>0.010818</td>\n",
       "      <td>0.015466</td>\n",
       "      <td>0.016725</td>\n",
       "      <td>0.004558</td>\n",
       "      <td>0.019629</td>\n",
       "      <td>-0.006180</td>\n",
       "      <td>0.018827</td>\n",
       "      <td>0.019342</td>\n",
       "      <td>0.006578</td>\n",
       "      <td>0.034755</td>\n",
       "      <td>0.0</td>\n",
       "      <td>-0.009133</td>\n",
       "    </tr>\n",
       "    <tr>\n",
       "      <th>2021-04-22 04:00:00</th>\n",
       "      <td>-0.006297</td>\n",
       "      <td>-0.001288</td>\n",
       "      <td>-0.006342</td>\n",
       "      <td>-0.004689</td>\n",
       "      <td>-0.006656</td>\n",
       "      <td>-0.003878</td>\n",
       "      <td>-0.007886</td>\n",
       "      <td>-0.008718</td>\n",
       "      <td>-0.015059</td>\n",
       "      <td>-0.005400</td>\n",
       "      <td>-0.012065</td>\n",
       "      <td>1.0</td>\n",
       "      <td>0.010842</td>\n",
       "    </tr>\n",
       "    <tr>\n",
       "      <th>2021-04-23 04:00:00</th>\n",
       "      <td>0.009747</td>\n",
       "      <td>0.007723</td>\n",
       "      <td>0.011177</td>\n",
       "      <td>0.003202</td>\n",
       "      <td>-0.002163</td>\n",
       "      <td>0.006801</td>\n",
       "      <td>-0.003110</td>\n",
       "      <td>0.020577</td>\n",
       "      <td>0.012318</td>\n",
       "      <td>0.003051</td>\n",
       "      <td>0.010520</td>\n",
       "      <td>1.0</td>\n",
       "      <td>0.002088</td>\n",
       "    </tr>\n",
       "  </tbody>\n",
       "</table>\n",
       "</div>"
      ],
      "text/plain": [
       "                     Industrials  Health Care  Information Technology  \\\n",
       "timestamp                                                               \n",
       "2021-04-19 04:00:00    -0.004149    -0.000356               -0.009452   \n",
       "2021-04-20 04:00:00    -0.008910     0.002328               -0.005653   \n",
       "2021-04-21 04:00:00     0.014615     0.010818                0.015466   \n",
       "2021-04-22 04:00:00    -0.006297    -0.001288               -0.006342   \n",
       "2021-04-23 04:00:00     0.009747     0.007723                0.011177   \n",
       "\n",
       "                     Communication Services  Consumer Staples  \\\n",
       "timestamp                                                       \n",
       "2021-04-19 04:00:00               -0.002727         -0.002429   \n",
       "2021-04-20 04:00:00               -0.007387          0.009700   \n",
       "2021-04-21 04:00:00                0.016725          0.004558   \n",
       "2021-04-22 04:00:00               -0.004689         -0.006656   \n",
       "2021-04-23 04:00:00                0.003202         -0.002163   \n",
       "\n",
       "                     Consumer Discretionary  Utilities  Financials  Materials  \\\n",
       "timestamp                                                                       \n",
       "2021-04-19 04:00:00               -0.007847  -0.005995   -0.003404  -0.005562   \n",
       "2021-04-20 04:00:00               -0.015166   0.012631   -0.011951  -0.008709   \n",
       "2021-04-21 04:00:00                0.019629  -0.006180    0.018827   0.019342   \n",
       "2021-04-22 04:00:00               -0.003878  -0.007886   -0.008718  -0.015059   \n",
       "2021-04-23 04:00:00                0.006801  -0.003110    0.020577   0.012318   \n",
       "\n",
       "                     Real Estate    Energy  SPY  SPY Returns  \n",
       "timestamp                                                     \n",
       "2021-04-19 04:00:00     0.002253 -0.001944  0.0          NaN  \n",
       "2021-04-20 04:00:00     0.011858 -0.025533  1.0     0.009462  \n",
       "2021-04-21 04:00:00     0.006578  0.034755  0.0    -0.009133  \n",
       "2021-04-22 04:00:00    -0.005400 -0.012065  1.0     0.010842  \n",
       "2021-04-23 04:00:00     0.003051  0.010520  1.0     0.002088  "
      ]
     },
     "metadata": {},
     "output_type": "display_data"
    },
    {
     "data": {
      "text/html": [
       "<div>\n",
       "<style scoped>\n",
       "    .dataframe tbody tr th:only-of-type {\n",
       "        vertical-align: middle;\n",
       "    }\n",
       "\n",
       "    .dataframe tbody tr th {\n",
       "        vertical-align: top;\n",
       "    }\n",
       "\n",
       "    .dataframe thead th {\n",
       "        text-align: right;\n",
       "    }\n",
       "</style>\n",
       "<table border=\"1\" class=\"dataframe\">\n",
       "  <thead>\n",
       "    <tr style=\"text-align: right;\">\n",
       "      <th></th>\n",
       "      <th>Industrials</th>\n",
       "      <th>Health Care</th>\n",
       "      <th>Information Technology</th>\n",
       "      <th>Communication Services</th>\n",
       "      <th>Consumer Staples</th>\n",
       "      <th>Consumer Discretionary</th>\n",
       "      <th>Utilities</th>\n",
       "      <th>Financials</th>\n",
       "      <th>Materials</th>\n",
       "      <th>Real Estate</th>\n",
       "      <th>Energy</th>\n",
       "      <th>SPY</th>\n",
       "      <th>SPY Returns</th>\n",
       "    </tr>\n",
       "    <tr>\n",
       "      <th>timestamp</th>\n",
       "      <th></th>\n",
       "      <th></th>\n",
       "      <th></th>\n",
       "      <th></th>\n",
       "      <th></th>\n",
       "      <th></th>\n",
       "      <th></th>\n",
       "      <th></th>\n",
       "      <th></th>\n",
       "      <th></th>\n",
       "      <th></th>\n",
       "      <th></th>\n",
       "      <th></th>\n",
       "    </tr>\n",
       "  </thead>\n",
       "  <tbody>\n",
       "    <tr>\n",
       "      <th>2022-04-08 04:00:00</th>\n",
       "      <td>-0.005791</td>\n",
       "      <td>0.005426</td>\n",
       "      <td>-0.007141</td>\n",
       "      <td>0.001863</td>\n",
       "      <td>0.001890</td>\n",
       "      <td>0.004482</td>\n",
       "      <td>0.001318</td>\n",
       "      <td>0.002899</td>\n",
       "      <td>0.002020</td>\n",
       "      <td>0.001696</td>\n",
       "      <td>0.027976</td>\n",
       "      <td>0.0</td>\n",
       "      <td>-0.017092</td>\n",
       "    </tr>\n",
       "    <tr>\n",
       "      <th>2022-04-11 04:00:00</th>\n",
       "      <td>-0.001636</td>\n",
       "      <td>-0.016449</td>\n",
       "      <td>-0.008222</td>\n",
       "      <td>-0.001345</td>\n",
       "      <td>-0.002333</td>\n",
       "      <td>0.006947</td>\n",
       "      <td>-0.014041</td>\n",
       "      <td>-0.002284</td>\n",
       "      <td>-0.001462</td>\n",
       "      <td>-0.010802</td>\n",
       "      <td>-0.018648</td>\n",
       "      <td>0.0</td>\n",
       "      <td>-0.003705</td>\n",
       "    </tr>\n",
       "    <tr>\n",
       "      <th>2022-04-12 04:00:00</th>\n",
       "      <td>-0.005875</td>\n",
       "      <td>-0.009887</td>\n",
       "      <td>-0.015830</td>\n",
       "      <td>-0.014729</td>\n",
       "      <td>0.000453</td>\n",
       "      <td>-0.009666</td>\n",
       "      <td>0.006666</td>\n",
       "      <td>-0.009787</td>\n",
       "      <td>-0.003684</td>\n",
       "      <td>0.001091</td>\n",
       "      <td>-0.003254</td>\n",
       "      <td>1.0</td>\n",
       "      <td>0.011454</td>\n",
       "    </tr>\n",
       "    <tr>\n",
       "      <th>2022-04-13 04:00:00</th>\n",
       "      <td>0.009596</td>\n",
       "      <td>0.009621</td>\n",
       "      <td>0.013019</td>\n",
       "      <td>0.016400</td>\n",
       "      <td>0.006615</td>\n",
       "      <td>0.019986</td>\n",
       "      <td>-0.002671</td>\n",
       "      <td>0.013958</td>\n",
       "      <td>0.011097</td>\n",
       "      <td>0.005808</td>\n",
       "      <td>0.002591</td>\n",
       "      <td>0.0</td>\n",
       "      <td>-0.012452</td>\n",
       "    </tr>\n",
       "    <tr>\n",
       "      <th>2022-04-14 04:00:00</th>\n",
       "      <td>-0.009122</td>\n",
       "      <td>-0.009233</td>\n",
       "      <td>-0.021862</td>\n",
       "      <td>-0.014418</td>\n",
       "      <td>-0.001020</td>\n",
       "      <td>-0.006432</td>\n",
       "      <td>-0.002104</td>\n",
       "      <td>-0.010351</td>\n",
       "      <td>-0.005664</td>\n",
       "      <td>-0.007773</td>\n",
       "      <td>0.005392</td>\n",
       "      <td>1.0</td>\n",
       "      <td>0.000411</td>\n",
       "    </tr>\n",
       "  </tbody>\n",
       "</table>\n",
       "</div>"
      ],
      "text/plain": [
       "                     Industrials  Health Care  Information Technology  \\\n",
       "timestamp                                                               \n",
       "2022-04-08 04:00:00    -0.005791     0.005426               -0.007141   \n",
       "2022-04-11 04:00:00    -0.001636    -0.016449               -0.008222   \n",
       "2022-04-12 04:00:00    -0.005875    -0.009887               -0.015830   \n",
       "2022-04-13 04:00:00     0.009596     0.009621                0.013019   \n",
       "2022-04-14 04:00:00    -0.009122    -0.009233               -0.021862   \n",
       "\n",
       "                     Communication Services  Consumer Staples  \\\n",
       "timestamp                                                       \n",
       "2022-04-08 04:00:00                0.001863          0.001890   \n",
       "2022-04-11 04:00:00               -0.001345         -0.002333   \n",
       "2022-04-12 04:00:00               -0.014729          0.000453   \n",
       "2022-04-13 04:00:00                0.016400          0.006615   \n",
       "2022-04-14 04:00:00               -0.014418         -0.001020   \n",
       "\n",
       "                     Consumer Discretionary  Utilities  Financials  Materials  \\\n",
       "timestamp                                                                       \n",
       "2022-04-08 04:00:00                0.004482   0.001318    0.002899   0.002020   \n",
       "2022-04-11 04:00:00                0.006947  -0.014041   -0.002284  -0.001462   \n",
       "2022-04-12 04:00:00               -0.009666   0.006666   -0.009787  -0.003684   \n",
       "2022-04-13 04:00:00                0.019986  -0.002671    0.013958   0.011097   \n",
       "2022-04-14 04:00:00               -0.006432  -0.002104   -0.010351  -0.005664   \n",
       "\n",
       "                     Real Estate    Energy  SPY  SPY Returns  \n",
       "timestamp                                                     \n",
       "2022-04-08 04:00:00     0.001696  0.027976  0.0    -0.017092  \n",
       "2022-04-11 04:00:00    -0.010802 -0.018648  0.0    -0.003705  \n",
       "2022-04-12 04:00:00     0.001091 -0.003254  1.0     0.011454  \n",
       "2022-04-13 04:00:00     0.005808  0.002591  0.0    -0.012452  \n",
       "2022-04-14 04:00:00    -0.007773  0.005392  1.0     0.000411  "
      ]
     },
     "metadata": {},
     "output_type": "display_data"
    }
   ],
   "source": [
    "# For creating the DB\n",
    "database_connection_string = 'sqlite:///SP500.db'\n",
    "engine = sqlalchemy.create_engine(database_connection_string)\n",
    "\n",
    "sp500 = pd.read_sql_table('SectorDF3Y', engine, parse_dates=True)\n",
    "sp500.set_index('timestamp', inplace=True)\n",
    "# Store df in a copy for later use\n",
    "sp500_close = sp500.copy()\n",
    "# Remove open and close columns from sp500df\n",
    "sp500[\"SPY Returns\"] = sp500['SPY Close'].pct_change()\n",
    "sp500.drop(columns={'SPY Open', 'SPY Close'}, inplace=True)\n",
    "# sp500.dtypes\n",
    "\n",
    "# # Review the DataFrame\n",
    "display(sp500.head())\n",
    "display(sp500.tail())"
   ]
  },
  {
   "cell_type": "markdown",
   "metadata": {},
   "source": [
    "## RandomForestClassifier Model"
   ]
  },
  {
   "cell_type": "code",
   "execution_count": null,
   "metadata": {},
   "outputs": [
    {
     "data": {
      "text/html": [
       "<div>\n",
       "<style scoped>\n",
       "    .dataframe tbody tr th:only-of-type {\n",
       "        vertical-align: middle;\n",
       "    }\n",
       "\n",
       "    .dataframe tbody tr th {\n",
       "        vertical-align: top;\n",
       "    }\n",
       "\n",
       "    .dataframe thead th {\n",
       "        text-align: right;\n",
       "    }\n",
       "</style>\n",
       "<table border=\"1\" class=\"dataframe\">\n",
       "  <thead>\n",
       "    <tr style=\"text-align: right;\">\n",
       "      <th></th>\n",
       "      <th>Industrials</th>\n",
       "      <th>Health Care</th>\n",
       "      <th>Information Technology</th>\n",
       "      <th>Communication Services</th>\n",
       "      <th>Consumer Staples</th>\n",
       "      <th>Consumer Discretionary</th>\n",
       "      <th>Utilities</th>\n",
       "      <th>Financials</th>\n",
       "      <th>Materials</th>\n",
       "      <th>Real Estate</th>\n",
       "      <th>Energy</th>\n",
       "    </tr>\n",
       "    <tr>\n",
       "      <th>timestamp</th>\n",
       "      <th></th>\n",
       "      <th></th>\n",
       "      <th></th>\n",
       "      <th></th>\n",
       "      <th></th>\n",
       "      <th></th>\n",
       "      <th></th>\n",
       "      <th></th>\n",
       "      <th></th>\n",
       "      <th></th>\n",
       "      <th></th>\n",
       "    </tr>\n",
       "  </thead>\n",
       "  <tbody>\n",
       "    <tr>\n",
       "      <th>2021-04-19 04:00:00</th>\n",
       "      <td>-0.004149</td>\n",
       "      <td>-0.000356</td>\n",
       "      <td>-0.009452</td>\n",
       "      <td>-0.002727</td>\n",
       "      <td>-0.002429</td>\n",
       "      <td>-0.007847</td>\n",
       "      <td>-0.005995</td>\n",
       "      <td>-0.003404</td>\n",
       "      <td>-0.005562</td>\n",
       "      <td>0.002253</td>\n",
       "      <td>-0.001944</td>\n",
       "    </tr>\n",
       "    <tr>\n",
       "      <th>2021-04-20 04:00:00</th>\n",
       "      <td>-0.008910</td>\n",
       "      <td>0.002328</td>\n",
       "      <td>-0.005653</td>\n",
       "      <td>-0.007387</td>\n",
       "      <td>0.009700</td>\n",
       "      <td>-0.015166</td>\n",
       "      <td>0.012631</td>\n",
       "      <td>-0.011951</td>\n",
       "      <td>-0.008709</td>\n",
       "      <td>0.011858</td>\n",
       "      <td>-0.025533</td>\n",
       "    </tr>\n",
       "    <tr>\n",
       "      <th>2021-04-21 04:00:00</th>\n",
       "      <td>0.014615</td>\n",
       "      <td>0.010818</td>\n",
       "      <td>0.015466</td>\n",
       "      <td>0.016725</td>\n",
       "      <td>0.004558</td>\n",
       "      <td>0.019629</td>\n",
       "      <td>-0.006180</td>\n",
       "      <td>0.018827</td>\n",
       "      <td>0.019342</td>\n",
       "      <td>0.006578</td>\n",
       "      <td>0.034755</td>\n",
       "    </tr>\n",
       "    <tr>\n",
       "      <th>2021-04-22 04:00:00</th>\n",
       "      <td>-0.006297</td>\n",
       "      <td>-0.001288</td>\n",
       "      <td>-0.006342</td>\n",
       "      <td>-0.004689</td>\n",
       "      <td>-0.006656</td>\n",
       "      <td>-0.003878</td>\n",
       "      <td>-0.007886</td>\n",
       "      <td>-0.008718</td>\n",
       "      <td>-0.015059</td>\n",
       "      <td>-0.005400</td>\n",
       "      <td>-0.012065</td>\n",
       "    </tr>\n",
       "    <tr>\n",
       "      <th>2021-04-23 04:00:00</th>\n",
       "      <td>0.009747</td>\n",
       "      <td>0.007723</td>\n",
       "      <td>0.011177</td>\n",
       "      <td>0.003202</td>\n",
       "      <td>-0.002163</td>\n",
       "      <td>0.006801</td>\n",
       "      <td>-0.003110</td>\n",
       "      <td>0.020577</td>\n",
       "      <td>0.012318</td>\n",
       "      <td>0.003051</td>\n",
       "      <td>0.010520</td>\n",
       "    </tr>\n",
       "  </tbody>\n",
       "</table>\n",
       "</div>"
      ],
      "text/plain": [
       "                     Industrials  Health Care  Information Technology  \\\n",
       "timestamp                                                               \n",
       "2021-04-19 04:00:00    -0.004149    -0.000356               -0.009452   \n",
       "2021-04-20 04:00:00    -0.008910     0.002328               -0.005653   \n",
       "2021-04-21 04:00:00     0.014615     0.010818                0.015466   \n",
       "2021-04-22 04:00:00    -0.006297    -0.001288               -0.006342   \n",
       "2021-04-23 04:00:00     0.009747     0.007723                0.011177   \n",
       "\n",
       "                     Communication Services  Consumer Staples  \\\n",
       "timestamp                                                       \n",
       "2021-04-19 04:00:00               -0.002727         -0.002429   \n",
       "2021-04-20 04:00:00               -0.007387          0.009700   \n",
       "2021-04-21 04:00:00                0.016725          0.004558   \n",
       "2021-04-22 04:00:00               -0.004689         -0.006656   \n",
       "2021-04-23 04:00:00                0.003202         -0.002163   \n",
       "\n",
       "                     Consumer Discretionary  Utilities  Financials  Materials  \\\n",
       "timestamp                                                                       \n",
       "2021-04-19 04:00:00               -0.007847  -0.005995   -0.003404  -0.005562   \n",
       "2021-04-20 04:00:00               -0.015166   0.012631   -0.011951  -0.008709   \n",
       "2021-04-21 04:00:00                0.019629  -0.006180    0.018827   0.019342   \n",
       "2021-04-22 04:00:00               -0.003878  -0.007886   -0.008718  -0.015059   \n",
       "2021-04-23 04:00:00                0.006801  -0.003110    0.020577   0.012318   \n",
       "\n",
       "                     Real Estate    Energy  \n",
       "timestamp                                   \n",
       "2021-04-19 04:00:00     0.002253 -0.001944  \n",
       "2021-04-20 04:00:00     0.011858 -0.025533  \n",
       "2021-04-21 04:00:00     0.006578  0.034755  \n",
       "2021-04-22 04:00:00    -0.005400 -0.012065  \n",
       "2021-04-23 04:00:00     0.003051  0.010520  "
      ]
     },
     "metadata": {},
     "output_type": "display_data"
    },
    {
     "data": {
      "text/html": [
       "<div>\n",
       "<style scoped>\n",
       "    .dataframe tbody tr th:only-of-type {\n",
       "        vertical-align: middle;\n",
       "    }\n",
       "\n",
       "    .dataframe tbody tr th {\n",
       "        vertical-align: top;\n",
       "    }\n",
       "\n",
       "    .dataframe thead th {\n",
       "        text-align: right;\n",
       "    }\n",
       "</style>\n",
       "<table border=\"1\" class=\"dataframe\">\n",
       "  <thead>\n",
       "    <tr style=\"text-align: right;\">\n",
       "      <th></th>\n",
       "      <th>SPY</th>\n",
       "    </tr>\n",
       "    <tr>\n",
       "      <th>timestamp</th>\n",
       "      <th></th>\n",
       "    </tr>\n",
       "  </thead>\n",
       "  <tbody>\n",
       "    <tr>\n",
       "      <th>2021-04-19 04:00:00</th>\n",
       "      <td>0.0</td>\n",
       "    </tr>\n",
       "    <tr>\n",
       "      <th>2021-04-20 04:00:00</th>\n",
       "      <td>1.0</td>\n",
       "    </tr>\n",
       "    <tr>\n",
       "      <th>2021-04-21 04:00:00</th>\n",
       "      <td>0.0</td>\n",
       "    </tr>\n",
       "    <tr>\n",
       "      <th>2021-04-22 04:00:00</th>\n",
       "      <td>1.0</td>\n",
       "    </tr>\n",
       "    <tr>\n",
       "      <th>2021-04-23 04:00:00</th>\n",
       "      <td>1.0</td>\n",
       "    </tr>\n",
       "  </tbody>\n",
       "</table>\n",
       "</div>"
      ],
      "text/plain": [
       "                     SPY\n",
       "timestamp               \n",
       "2021-04-19 04:00:00  0.0\n",
       "2021-04-20 04:00:00  1.0\n",
       "2021-04-21 04:00:00  0.0\n",
       "2021-04-22 04:00:00  1.0\n",
       "2021-04-23 04:00:00  1.0"
      ]
     },
     "metadata": {},
     "output_type": "display_data"
    }
   ],
   "source": [
    "X = sp500[['Industrials', 'Health Care', 'Information Technology', 'Communication Services', 'Consumer Staples', 'Consumer Discretionary', 'Utilities', 'Financials', 'Materials', 'Real Estate', 'Energy']]\n",
    "y = sp500[['SPY']]\n",
    "\n",
    "\n",
    "display(X.head())\n",
    "display(y.head())\n",
    "# display(sp500.dtypes)"
   ]
  },
  {
   "cell_type": "markdown",
   "metadata": {},
   "source": [
    "## Initial Full Features Model\n",
    "####  - Initiate the full feature\n",
    "####  - Create the Optimized X dataframe\n",
    "####  - Instantiate the RandomForestClassifier Model"
   ]
  },
  {
   "cell_type": "code",
   "execution_count": null,
   "metadata": {},
   "outputs": [
    {
     "name": "stderr",
     "output_type": "stream",
     "text": [
      "C:\\ProgramData\\Anaconda3\\envs\\dev\\lib\\site-packages\\sklearn\\utils\\validation.py:1688: FutureWarning: Feature names only support names that are all strings. Got feature names with dtypes: ['quoted_name']. An error will be raised in 1.2.\n",
      "  warnings.warn(\n",
      "C:\\ProgramData\\Anaconda3\\envs\\dev\\lib\\site-packages\\sklearn\\utils\\validation.py:1688: FutureWarning: Feature names only support names that are all strings. Got feature names with dtypes: ['quoted_name']. An error will be raised in 1.2.\n",
      "  warnings.warn(\n",
      "C:\\ProgramData\\Anaconda3\\envs\\dev\\lib\\site-packages\\sklearn\\utils\\validation.py:1688: FutureWarning: Feature names only support names that are all strings. Got feature names with dtypes: ['quoted_name']. An error will be raised in 1.2.\n",
      "  warnings.warn(\n"
     ]
    },
    {
     "data": {
      "text/html": [
       "<div>\n",
       "<style scoped>\n",
       "    .dataframe tbody tr th:only-of-type {\n",
       "        vertical-align: middle;\n",
       "    }\n",
       "\n",
       "    .dataframe tbody tr th {\n",
       "        vertical-align: top;\n",
       "    }\n",
       "\n",
       "    .dataframe thead th {\n",
       "        text-align: right;\n",
       "    }\n",
       "</style>\n",
       "<table border=\"1\" class=\"dataframe\">\n",
       "  <thead>\n",
       "    <tr style=\"text-align: right;\">\n",
       "      <th></th>\n",
       "      <th>Industrials</th>\n",
       "      <th>Health Care</th>\n",
       "      <th>Information Technology</th>\n",
       "      <th>Communication Services</th>\n",
       "      <th>Consumer Staples</th>\n",
       "      <th>Consumer Discretionary</th>\n",
       "      <th>Utilities</th>\n",
       "      <th>Financials</th>\n",
       "      <th>Materials</th>\n",
       "      <th>Real Estate</th>\n",
       "      <th>Energy</th>\n",
       "    </tr>\n",
       "    <tr>\n",
       "      <th>timestamp</th>\n",
       "      <th></th>\n",
       "      <th></th>\n",
       "      <th></th>\n",
       "      <th></th>\n",
       "      <th></th>\n",
       "      <th></th>\n",
       "      <th></th>\n",
       "      <th></th>\n",
       "      <th></th>\n",
       "      <th></th>\n",
       "      <th></th>\n",
       "    </tr>\n",
       "  </thead>\n",
       "  <tbody>\n",
       "    <tr>\n",
       "      <th>2021-04-19 04:00:00</th>\n",
       "      <td>-0.004149</td>\n",
       "      <td>-0.000356</td>\n",
       "      <td>-0.009452</td>\n",
       "      <td>-0.002727</td>\n",
       "      <td>-0.002429</td>\n",
       "      <td>-0.007847</td>\n",
       "      <td>-0.005995</td>\n",
       "      <td>-0.003404</td>\n",
       "      <td>-0.005562</td>\n",
       "      <td>0.002253</td>\n",
       "      <td>-0.001944</td>\n",
       "    </tr>\n",
       "    <tr>\n",
       "      <th>2021-04-20 04:00:00</th>\n",
       "      <td>-0.008910</td>\n",
       "      <td>0.002328</td>\n",
       "      <td>-0.005653</td>\n",
       "      <td>-0.007387</td>\n",
       "      <td>0.009700</td>\n",
       "      <td>-0.015166</td>\n",
       "      <td>0.012631</td>\n",
       "      <td>-0.011951</td>\n",
       "      <td>-0.008709</td>\n",
       "      <td>0.011858</td>\n",
       "      <td>-0.025533</td>\n",
       "    </tr>\n",
       "    <tr>\n",
       "      <th>2021-04-21 04:00:00</th>\n",
       "      <td>0.014615</td>\n",
       "      <td>0.010818</td>\n",
       "      <td>0.015466</td>\n",
       "      <td>0.016725</td>\n",
       "      <td>0.004558</td>\n",
       "      <td>0.019629</td>\n",
       "      <td>-0.006180</td>\n",
       "      <td>0.018827</td>\n",
       "      <td>0.019342</td>\n",
       "      <td>0.006578</td>\n",
       "      <td>0.034755</td>\n",
       "    </tr>\n",
       "    <tr>\n",
       "      <th>2021-04-22 04:00:00</th>\n",
       "      <td>-0.006297</td>\n",
       "      <td>-0.001288</td>\n",
       "      <td>-0.006342</td>\n",
       "      <td>-0.004689</td>\n",
       "      <td>-0.006656</td>\n",
       "      <td>-0.003878</td>\n",
       "      <td>-0.007886</td>\n",
       "      <td>-0.008718</td>\n",
       "      <td>-0.015059</td>\n",
       "      <td>-0.005400</td>\n",
       "      <td>-0.012065</td>\n",
       "    </tr>\n",
       "    <tr>\n",
       "      <th>2021-04-23 04:00:00</th>\n",
       "      <td>0.009747</td>\n",
       "      <td>0.007723</td>\n",
       "      <td>0.011177</td>\n",
       "      <td>0.003202</td>\n",
       "      <td>-0.002163</td>\n",
       "      <td>0.006801</td>\n",
       "      <td>-0.003110</td>\n",
       "      <td>0.020577</td>\n",
       "      <td>0.012318</td>\n",
       "      <td>0.003051</td>\n",
       "      <td>0.010520</td>\n",
       "    </tr>\n",
       "  </tbody>\n",
       "</table>\n",
       "</div>"
      ],
      "text/plain": [
       "                     Industrials  Health Care  Information Technology  \\\n",
       "timestamp                                                               \n",
       "2021-04-19 04:00:00    -0.004149    -0.000356               -0.009452   \n",
       "2021-04-20 04:00:00    -0.008910     0.002328               -0.005653   \n",
       "2021-04-21 04:00:00     0.014615     0.010818                0.015466   \n",
       "2021-04-22 04:00:00    -0.006297    -0.001288               -0.006342   \n",
       "2021-04-23 04:00:00     0.009747     0.007723                0.011177   \n",
       "\n",
       "                     Communication Services  Consumer Staples  \\\n",
       "timestamp                                                       \n",
       "2021-04-19 04:00:00               -0.002727         -0.002429   \n",
       "2021-04-20 04:00:00               -0.007387          0.009700   \n",
       "2021-04-21 04:00:00                0.016725          0.004558   \n",
       "2021-04-22 04:00:00               -0.004689         -0.006656   \n",
       "2021-04-23 04:00:00                0.003202         -0.002163   \n",
       "\n",
       "                     Consumer Discretionary  Utilities  Financials  Materials  \\\n",
       "timestamp                                                                       \n",
       "2021-04-19 04:00:00               -0.007847  -0.005995   -0.003404  -0.005562   \n",
       "2021-04-20 04:00:00               -0.015166   0.012631   -0.011951  -0.008709   \n",
       "2021-04-21 04:00:00                0.019629  -0.006180    0.018827   0.019342   \n",
       "2021-04-22 04:00:00               -0.003878  -0.007886   -0.008718  -0.015059   \n",
       "2021-04-23 04:00:00                0.006801  -0.003110    0.020577   0.012318   \n",
       "\n",
       "                     Real Estate    Energy  \n",
       "timestamp                                   \n",
       "2021-04-19 04:00:00     0.002253 -0.001944  \n",
       "2021-04-20 04:00:00     0.011858 -0.025533  \n",
       "2021-04-21 04:00:00     0.006578  0.034755  \n",
       "2021-04-22 04:00:00    -0.005400 -0.012065  \n",
       "2021-04-23 04:00:00     0.003051  0.010520  "
      ]
     },
     "execution_count": 4,
     "metadata": {},
     "output_type": "execute_result"
    }
   ],
   "source": [
    "initial_train_split = get_train_split(X, y)\n",
    "# Deconstruct the returned object values\n",
    "X_test, X_train_scaled, X_test_scaled, y_train, y_test = initial_train_split.values()\n",
    "\n",
    "# This is the optimized X dataframe for use later and the RandomForestClassifier instance\n",
    "sp500_optimized = get_importance(initial_train_split, X)\n",
    "# Deconstruct the returned object values\n",
    "feat_importances_optimized, rdm_forest_model, X_optimized = sp500_optimized.values()\n",
    "\n",
    "# Review Initial Full Features Model X\n",
    "X.head()"
   ]
  },
  {
   "cell_type": "markdown",
   "metadata": {},
   "source": [
    "## Review Initial Model Values and Accuracy"
   ]
  },
  {
   "cell_type": "code",
   "execution_count": null,
   "metadata": {},
   "outputs": [
    {
     "name": "stdout",
     "output_type": "stream",
     "text": [
      "[0. 0. 1. 1. 0. 1. 1. 0. 0. 1. 0. 1. 1. 0. 0. 0. 1. 1. 1. 0. 1. 1. 0. 0.\n",
      " 0. 1. 1. 0. 1. 1. 0. 0. 1. 0. 1. 0. 0. 1. 1. 0. 1. 0. 1. 1. 0. 0. 0. 0.\n",
      " 0. 0. 1. 1. 1. 0. 1. 1. 1. 1. 1. 0. 0. 0. 0.]\n"
     ]
    }
   ],
   "source": [
    "# store the y_pred array\n",
    "y_pred = rdm_forest_model.predict(X_test_scaled)\n",
    "\n",
    "# Review the model's predicted test values\n",
    "print(y_pred)"
   ]
  },
  {
   "cell_type": "markdown",
   "metadata": {},
   "source": [
    "## Review Initial Model Accuracy Score"
   ]
  },
  {
   "cell_type": "code",
   "execution_count": null,
   "metadata": {},
   "outputs": [
    {
     "name": "stdout",
     "output_type": "stream",
     "text": [
      "0.6189516129032258\n"
     ]
    }
   ],
   "source": [
    "# Print the balanced_accuracy score of the model\n",
    "print(balanced_accuracy_score(y_test, y_pred))"
   ]
  },
  {
   "cell_type": "markdown",
   "metadata": {},
   "source": [
    "## Review Initial Model Confusion Matrix"
   ]
  },
  {
   "cell_type": "code",
   "execution_count": null,
   "metadata": {},
   "outputs": [
    {
     "name": "stdout",
     "output_type": "stream",
     "text": [
      "[[20 12]\n",
      " [12 19]]\n"
     ]
    }
   ],
   "source": [
    "# Generate a confusion matrix for the model\n",
    "print(confusion_matrix(y_test, y_pred))"
   ]
  },
  {
   "cell_type": "code",
   "execution_count": null,
   "metadata": {},
   "outputs": [
    {
     "data": {
      "text/plain": [
       "[<matplotlib.lines.Line2D at 0x1d9b70ddc10>]"
      ]
     },
     "execution_count": 8,
     "metadata": {},
     "output_type": "execute_result"
    },
    {
     "data": {
      "image/png": "[encoded data removed]",
      "text/plain": [
       "<Figure size 432x288 with 1 Axes>"
      ]
     },
     "metadata": {
      "needs_background": "light"
     },
     "output_type": "display_data"
    }
   ],
   "source": [
    "# compute ROC curve\n",
    "fpr, tpr, thresh = roc_curve(y_test, y_pred)\n",
    "\n",
    "# plot ROC results\n",
    "import matplotlib.pyplot as plt\n",
    "plt.plot(fpr, tpr)\n",
    "plt.xlabel(\"False Positive Rate\")\n",
    "plt.ylabel(\"True Positive Rate\")\n",
    "plt.plot([0, 1], [0, 1], color=\"navy\", lw=2, linestyle=\"--\")"
   ]
  },
  {
   "cell_type": "markdown",
   "metadata": {},
   "source": [
    "## Review Initial Model Classification Report Imbalanced"
   ]
  },
  {
   "cell_type": "code",
   "execution_count": null,
   "metadata": {},
   "outputs": [
    {
     "name": "stdout",
     "output_type": "stream",
     "text": [
      "                   pre       rec       spe        f1       geo       iba       sup\n",
      "\n",
      "        0.0       0.62      0.62      0.61      0.62      0.62      0.38        32\n",
      "        1.0       0.61      0.61      0.62      0.61      0.62      0.38        31\n",
      "\n",
      "avg / total       0.62      0.62      0.62      0.62      0.62      0.38        63\n",
      "\n"
     ]
    }
   ],
   "source": [
    "# Print the classification report for the model\n",
    "print(classification_report_imbalanced(y_test, y_pred))"
   ]
  },
  {
   "cell_type": "markdown",
   "metadata": {},
   "source": [
    "## Review Initial Model Classification Report"
   ]
  },
  {
   "cell_type": "code",
   "execution_count": null,
   "metadata": {},
   "outputs": [
    {
     "name": "stdout",
     "output_type": "stream",
     "text": [
      "              precision    recall  f1-score   support\n",
      "\n",
      "         0.0       0.62      0.62      0.62        32\n",
      "         1.0       0.61      0.61      0.61        31\n",
      "\n",
      "    accuracy                           0.62        63\n",
      "   macro avg       0.62      0.62      0.62        63\n",
      "weighted avg       0.62      0.62      0.62        63\n",
      "\n"
     ]
    }
   ],
   "source": [
    "# Review the classification report associated with the model predictions.\n",
    "# Use a classification report to evaluate the model using the predictions and training data\n",
    "rfm_testing_pred = rdm_forest_model.predict(X_test_scaled)\n",
    "rfm_testing_report = classification_report(y_test, rfm_testing_pred)\n",
    "\n",
    "# Print the classification report\n",
    "print(rfm_testing_report)"
   ]
  },
  {
   "cell_type": "markdown",
   "metadata": {},
   "source": [
    "## Optimized Features Model"
   ]
  },
  {
   "cell_type": "code",
   "execution_count": null,
   "metadata": {},
   "outputs": [
    {
     "name": "stderr",
     "output_type": "stream",
     "text": [
      "C:\\ProgramData\\Anaconda3\\envs\\dev\\lib\\site-packages\\sklearn\\utils\\validation.py:1688: FutureWarning: Feature names only support names that are all strings. Got feature names with dtypes: ['quoted_name']. An error will be raised in 1.2.\n",
      "  warnings.warn(\n",
      "C:\\ProgramData\\Anaconda3\\envs\\dev\\lib\\site-packages\\sklearn\\utils\\validation.py:1688: FutureWarning: Feature names only support names that are all strings. Got feature names with dtypes: ['quoted_name']. An error will be raised in 1.2.\n",
      "  warnings.warn(\n",
      "C:\\ProgramData\\Anaconda3\\envs\\dev\\lib\\site-packages\\sklearn\\utils\\validation.py:1688: FutureWarning: Feature names only support names that are all strings. Got feature names with dtypes: ['quoted_name']. An error will be raised in 1.2.\n",
      "  warnings.warn(\n"
     ]
    },
    {
     "data": {
      "text/html": [
       "<div>\n",
       "<style scoped>\n",
       "    .dataframe tbody tr th:only-of-type {\n",
       "        vertical-align: middle;\n",
       "    }\n",
       "\n",
       "    .dataframe tbody tr th {\n",
       "        vertical-align: top;\n",
       "    }\n",
       "\n",
       "    .dataframe thead th {\n",
       "        text-align: right;\n",
       "    }\n",
       "</style>\n",
       "<table border=\"1\" class=\"dataframe\">\n",
       "  <thead>\n",
       "    <tr style=\"text-align: right;\">\n",
       "      <th></th>\n",
       "      <th>Consumer Staples</th>\n",
       "      <th>Utilities</th>\n",
       "      <th>Financials</th>\n",
       "      <th>Real Estate</th>\n",
       "      <th>Energy</th>\n",
       "    </tr>\n",
       "    <tr>\n",
       "      <th>timestamp</th>\n",
       "      <th></th>\n",
       "      <th></th>\n",
       "      <th></th>\n",
       "      <th></th>\n",
       "      <th></th>\n",
       "    </tr>\n",
       "  </thead>\n",
       "  <tbody>\n",
       "    <tr>\n",
       "      <th>2021-04-19 04:00:00</th>\n",
       "      <td>-0.002429</td>\n",
       "      <td>-0.005995</td>\n",
       "      <td>-0.003404</td>\n",
       "      <td>0.002253</td>\n",
       "      <td>-0.001944</td>\n",
       "    </tr>\n",
       "    <tr>\n",
       "      <th>2021-04-20 04:00:00</th>\n",
       "      <td>0.009700</td>\n",
       "      <td>0.012631</td>\n",
       "      <td>-0.011951</td>\n",
       "      <td>0.011858</td>\n",
       "      <td>-0.025533</td>\n",
       "    </tr>\n",
       "    <tr>\n",
       "      <th>2021-04-21 04:00:00</th>\n",
       "      <td>0.004558</td>\n",
       "      <td>-0.006180</td>\n",
       "      <td>0.018827</td>\n",
       "      <td>0.006578</td>\n",
       "      <td>0.034755</td>\n",
       "    </tr>\n",
       "    <tr>\n",
       "      <th>2021-04-22 04:00:00</th>\n",
       "      <td>-0.006656</td>\n",
       "      <td>-0.007886</td>\n",
       "      <td>-0.008718</td>\n",
       "      <td>-0.005400</td>\n",
       "      <td>-0.012065</td>\n",
       "    </tr>\n",
       "    <tr>\n",
       "      <th>2021-04-23 04:00:00</th>\n",
       "      <td>-0.002163</td>\n",
       "      <td>-0.003110</td>\n",
       "      <td>0.020577</td>\n",
       "      <td>0.003051</td>\n",
       "      <td>0.010520</td>\n",
       "    </tr>\n",
       "  </tbody>\n",
       "</table>\n",
       "</div>"
      ],
      "text/plain": [
       "                     Consumer Staples  Utilities  Financials  Real Estate  \\\n",
       "timestamp                                                                   \n",
       "2021-04-19 04:00:00         -0.002429  -0.005995   -0.003404     0.002253   \n",
       "2021-04-20 04:00:00          0.009700   0.012631   -0.011951     0.011858   \n",
       "2021-04-21 04:00:00          0.004558  -0.006180    0.018827     0.006578   \n",
       "2021-04-22 04:00:00         -0.006656  -0.007886   -0.008718    -0.005400   \n",
       "2021-04-23 04:00:00         -0.002163  -0.003110    0.020577     0.003051   \n",
       "\n",
       "                       Energy  \n",
       "timestamp                      \n",
       "2021-04-19 04:00:00 -0.001944  \n",
       "2021-04-20 04:00:00 -0.025533  \n",
       "2021-04-21 04:00:00  0.034755  \n",
       "2021-04-22 04:00:00 -0.012065  \n",
       "2021-04-23 04:00:00  0.010520  "
      ]
     },
     "execution_count": 11,
     "metadata": {},
     "output_type": "execute_result"
    }
   ],
   "source": [
    "# Re-train the Optimized X dataframe\n",
    "train_split_1 = get_train_split(X_optimized, y)\n",
    "# Deconstruct the returned object values\n",
    "X_test_1, X_train_scaled_1, X_test_scaled_1, y_train_1, y_test_1 = train_split_1.values()\n",
    "\n",
    "# Review optimized results\n",
    "X_optimized.head()"
   ]
  },
  {
   "cell_type": "code",
   "execution_count": null,
   "metadata": {},
   "outputs": [
    {
     "data": {
      "text/plain": [
       "RandomForestClassifier(max_depth=5, random_state=3)"
      ]
     },
     "execution_count": 12,
     "metadata": {},
     "output_type": "execute_result"
    }
   ],
   "source": [
    "# Re-fit the optimized / trained data\n",
    "rdm_forest_model.fit(X_train_scaled_1, np.ravel(y_train_1, order='c'), sample_weight=None)"
   ]
  },
  {
   "cell_type": "markdown",
   "metadata": {},
   "source": [
    "## Plot Optimized Model Feature Importances Using Mean Decrease In Impurity"
   ]
  },
  {
   "cell_type": "code",
   "execution_count": null,
   "metadata": {},
   "outputs": [
    {
     "data": {
      "image/png": "[encoded data removed]",
      "text/plain": [
       "<Figure size 432x288 with 1 Axes>"
      ]
     },
     "metadata": {
      "needs_background": "light"
     },
     "output_type": "display_data"
    }
   ],
   "source": [
    "feature_names = X_optimized.columns.to_list()\n",
    "forest_importances = pd.Series(feat_importances_optimized, index=feature_names)\n",
    "forest_importances\n",
    "fig, ax = plt.subplots()\n",
    "std = np.std([tree.feature_importances_ for tree in rdm_forest_model.estimators_], axis=0)\n",
    "forest_importances.plot.bar(yerr=std, ax=ax)\n",
    "ax.set_title('Feature Importances S&P500 w/ MDI')\n",
    "ax.set_ylabel('Mean decrease in impurity')\n",
    "fig.tight_layout()"
   ]
  },
  {
   "cell_type": "markdown",
   "metadata": {},
   "source": [
    "## Review Optimized Model Values and Accuracy"
   ]
  },
  {
   "cell_type": "code",
   "execution_count": null,
   "metadata": {},
   "outputs": [
    {
     "name": "stdout",
     "output_type": "stream",
     "text": [
      "[0. 0. 1. 1. 1. 1. 1. 1. 0. 1. 0. 1. 1. 1. 0. 0. 1. 1. 0. 0. 1. 0. 1. 0.\n",
      " 0. 1. 0. 0. 0. 1. 1. 0. 0. 0. 1. 0. 0. 1. 0. 1. 0. 0. 1. 1. 0. 0. 1. 0.\n",
      " 0. 0. 1. 1. 1. 0. 1. 1. 1. 1. 1. 0. 0. 0. 0.]\n"
     ]
    }
   ],
   "source": [
    "# store the y_pred array\n",
    "y_pred_1 = rdm_forest_model.predict(X_test_scaled_1)\n",
    "\n",
    "# Review the model's predicted test values\n",
    "print(y_pred_1)"
   ]
  },
  {
   "cell_type": "markdown",
   "metadata": {},
   "source": [
    "## Review Optimized Model Accuracy Score"
   ]
  },
  {
   "cell_type": "code",
   "execution_count": null,
   "metadata": {},
   "outputs": [
    {
     "name": "stdout",
     "output_type": "stream",
     "text": [
      "0.5871975806451613\n"
     ]
    }
   ],
   "source": [
    "# Print the balanced_accuracy score of the model\n",
    "print(balanced_accuracy_score(y_test_1, y_pred_1))"
   ]
  },
  {
   "cell_type": "markdown",
   "metadata": {},
   "source": [
    "## Review Optimized Model Confusion Matrix"
   ]
  },
  {
   "cell_type": "code",
   "execution_count": null,
   "metadata": {},
   "outputs": [
    {
     "name": "stdout",
     "output_type": "stream",
     "text": [
      "[[19 13]\n",
      " [13 18]]\n"
     ]
    }
   ],
   "source": [
    "# Generate a confusion matrix for the model\n",
    "print(confusion_matrix(y_test_1, y_pred_1))"
   ]
  },
  {
   "cell_type": "markdown",
   "metadata": {},
   "source": [
    "## Review Optimized Model Classification Report Imbalanced"
   ]
  },
  {
   "cell_type": "code",
   "execution_count": null,
   "metadata": {},
   "outputs": [
    {
     "name": "stdout",
     "output_type": "stream",
     "text": [
      "                   pre       rec       spe        f1       geo       iba       sup\n",
      "\n",
      "        0.0       0.59      0.59      0.58      0.59      0.59      0.35        32\n",
      "        1.0       0.58      0.58      0.59      0.58      0.59      0.34        31\n",
      "\n",
      "avg / total       0.59      0.59      0.59      0.59      0.59      0.34        63\n",
      "\n"
     ]
    }
   ],
   "source": [
    "# Print the classification report for the model\n",
    "print(classification_report_imbalanced(y_test_1, y_pred_1))"
   ]
  },
  {
   "cell_type": "markdown",
   "metadata": {},
   "source": [
    "## Review Optimized Model Classification Report Imbalanced"
   ]
  },
  {
   "cell_type": "code",
   "execution_count": null,
   "metadata": {},
   "outputs": [
    {
     "name": "stdout",
     "output_type": "stream",
     "text": [
      "              precision    recall  f1-score   support\n",
      "\n",
      "         0.0       0.59      0.59      0.59        32\n",
      "         1.0       0.58      0.58      0.58        31\n",
      "\n",
      "    accuracy                           0.59        63\n",
      "   macro avg       0.59      0.59      0.59        63\n",
      "weighted avg       0.59      0.59      0.59        63\n",
      "\n"
     ]
    }
   ],
   "source": [
    "# Review the classification report associated with the model predictions.\n",
    "# Use a classification report to evaluate the model using the predictions and training data\n",
    "rfm_testing_pred_1 = rdm_forest_model.predict(X_test_scaled_1)\n",
    "rfm_testing_report_1 = classification_report(y_test_1, rfm_testing_pred_1)\n",
    "\n",
    "# Print the classification report\n",
    "print(rfm_testing_report_1)"
   ]
  },
  {
   "cell_type": "markdown",
   "metadata": {},
   "source": [
    "## Plot ROC Curve"
   ]
  },
  {
   "cell_type": "code",
   "execution_count": null,
   "metadata": {},
   "outputs": [
    {
     "data": {
      "text/plain": [
       "[<matplotlib.lines.Line2D at 0x1d9b72d2be0>]"
      ]
     },
     "execution_count": 19,
     "metadata": {},
     "output_type": "execute_result"
    },
    {
     "data": {
      "image/png": "[encoded data removed]",
      "text/plain": [
       "<Figure size 432x288 with 1 Axes>"
      ]
     },
     "metadata": {
      "needs_background": "light"
     },
     "output_type": "display_data"
    }
   ],
   "source": [
    "# compute ROC curve\n",
    "fpr, tpr, thresh = roc_curve(y_test_1, y_pred_1)\n",
    "\n",
    "# plot ROC results\n",
    "import matplotlib.pyplot as plt\n",
    "plt.plot(fpr, tpr)\n",
    "plt.xlabel(\"False Positive Rate\")\n",
    "plt.ylabel(\"True Positive Rate\")\n",
    "plt.plot([0, 1], [0, 1], color=\"navy\", lw=2, linestyle=\"--\")"
   ]
  }
 ],
 "metadata": {
  "interpreter": {
   "hash": "c4b0b55e92ab1351e5a1f94286072d021fbab334671496e18a96cada826a13ce"
  },
  "kernelspec": {
   "display_name": "Python 3 (ipykernel)",
   "language": "python",
   "name": "python3"
  },
  "language_info": {
   "codemirror_mode": {
    "name": "ipython",
    "version": 3
   },
   "file_extension": ".py",
   "mimetype": "text/x-python",
   "name": "python",
   "nbconvert_exporter": "python",
   "pygments_lexer": "ipython3",
   "version": "3.8.0"
  }
 },
 "nbformat": 4,
 "nbformat_minor": 4
}
