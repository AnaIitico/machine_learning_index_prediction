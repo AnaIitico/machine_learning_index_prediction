{
 "cells": [
  {
   "cell_type": "code",
   "execution_count": null,
   "metadata": {},
   "outputs": [],
   "source": [
    "# Imports\n",
    "import pandas as pd\n",
    "import numpy as np\n",
    "from pathlib import Path\n",
    "import hvplot.pandas\n",
    "import matplotlib.pyplot as plt\n",
    "import sqlalchemy\n",
    "import datetime\n",
    "from sklearn.preprocessing import StandardScaler\n",
    "from sklearn.linear_model import LogisticRegression\n",
    "from pandas.tseries.offsets import DateOffset\n",
    "from sklearn.metrics import classification_report"
   ]
  },
  {
   "cell_type": "code",
   "execution_count": null,
   "metadata": {},
   "outputs": [],
   "source": [
    "# For creating the DB\n",
    "database_connection_string = 'sqlite:///SP500.db'\n",
    "engine = sqlalchemy.create_engine(database_connection_string)\n",
    "\n",
    "sp500 = pd.read_sql_table('SectorDF', engine, parse_dates=True)\n",
    "sp500.set_index('timestamp', inplace=True)\n",
    "\n",
    "#Insert classifier column\n",
    "sp500['SPY Returns'] = 0\n",
    "sp500.loc[(sp500['SPY'] >= 0), 'SPY Returns'] = 1\n",
    "sp500.loc[(sp500['SPY'] < 0), 'SPY Returns'] = 0\n",
    "\n",
    "#preview data types\n",
    "display(sp500.dtypes)\n",
    "\n",
    "# # Review the DataFrame\n",
    "display(sp500.head())\n",
    "display(sp500.tail())"
   ]
  },
  {
   "cell_type": "code",
   "execution_count": null,
   "metadata": {},
   "outputs": [],
   "source": [
    "## Logistic Regression Model"
   ]
  },
  {
   "cell_type": "code",
   "execution_count": null,
   "metadata": {},
   "outputs": [],
   "source": [
    "# Separate the data into labels and features for last three months\n",
    "\n",
    "# Separate the y variable, the labels\n",
    "y = sp500.loc[\"2022-01-13 04:00:00\":\"2022-04-13 04:00:00\", \"SPY Returns\"]\n",
    "# Separate the X variable, the features\n",
    "# X = sp500.loc[\"2022-01-13 04:00:00\":\"2022-04-13 04:00:00\", ['Industrials', 'Health Care', 'Information Technology', 'Communication Services', 'Consumer Staples', \\\n",
    "#            'Consumer Discretionary', 'Utilities', 'Financials', 'Materials', 'Real Estate', 'Energy']]\n",
    "X = sp500.loc[\"2022-01-13 04:00:00\":\"2022-04-13 04:00:00\",['Health Care', 'Energy']]"
   ]
  },
  {
   "cell_type": "code",
   "execution_count": null,
   "metadata": {},
   "outputs": [],
   "source": [
    "# Import the train_test_learn module\n",
    "from sklearn.model_selection import train_test_split\n",
    "\n",
    "# Split the data using train_test_split\n",
    "# Assign a random_state of 1 to the function\n",
    "features = X\n",
    "target = y\n",
    "X_train, X_test, y_train, y_test = train_test_split(X, y, random_state=1)\n",
    "X_train.shape"
   ]
  },
  {
   "cell_type": "code",
   "execution_count": null,
   "metadata": {},
   "outputs": [],
   "source": [
    "# Import the LogisticRegression module from SKLearn\n",
    "from sklearn.linear_model import LogisticRegression\n",
    "\n",
    "# Instantiate the Logistic Regression model\n",
    "# Assign a random_state parameter of 1 to the model\n",
    "lr = LogisticRegression(random_state=1)\n",
    "\n",
    "# Fit the model using training data\n",
    "lr.fit(X_train, y_train)"
   ]
  },
  {
   "cell_type": "code",
   "execution_count": null,
   "metadata": {},
   "outputs": [],
   "source": [
    "# Make a prediction using the testing data\n",
    "y_pred = lr.predict(X_test)"
   ]
  },
  {
   "cell_type": "code",
   "execution_count": null,
   "metadata": {},
   "outputs": [],
   "source": [
    "#show prediction\n",
    "print(y_pred)"
   ]
  },
  {
   "cell_type": "code",
   "execution_count": null,
   "metadata": {},
   "outputs": [],
   "source": []
  }
 ],
 "metadata": {
  "interpreter": {
   "hash": "c4b0b55e92ab1351e5a1f94286072d021fbab334671496e18a96cada826a13ce"
  },
  "kernelspec": {
   "display_name": "Python 3 (ipykernel)",
   "language": "python",
   "name": "python3"
  },
  "language_info": {
   "codemirror_mode": {
    "name": "ipython",
    "version": 3
   },
   "file_extension": ".py",
   "mimetype": "text/x-python",
   "name": "python",
   "nbconvert_exporter": "python",
   "pygments_lexer": "ipython3",
   "version": "3.8.0"
  }
 },
 "nbformat": 4,
 "nbformat_minor": 4
}
