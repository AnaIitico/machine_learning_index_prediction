{
 "cells": [
  {
   "cell_type": "code",
   "execution_count": 362,
   "metadata": {},
   "outputs": [],
   "source": [
    "import pandas as pd\n",
    "import ssl\n",
    "import numpy as np\n",
    "from pathlib import Path\n",
    "import sqlalchemy\n",
    "#import datetime\n",
    "\n",
    "#import tensorflow as tf\n",
    "from tensorflow.keras.layers import Dense\n",
    "from tensorflow.keras.models import Sequential, Model\n",
    "from sklearn.model_selection import train_test_split\n",
    "from sklearn.preprocessing import StandardScaler\n",
    "\n",
    "database_connection_string = 'sqlite:///SP500.db'\n",
    "engine = sqlalchemy.create_engine(database_connection_string)"
   ]
  },
  {
   "cell_type": "code",
   "execution_count": 363,
   "metadata": {},
   "outputs": [
    {
     "data": {
      "text/html": [
       "<div>\n",
       "<style scoped>\n",
       "    .dataframe tbody tr th:only-of-type {\n",
       "        vertical-align: middle;\n",
       "    }\n",
       "\n",
       "    .dataframe tbody tr th {\n",
       "        vertical-align: top;\n",
       "    }\n",
       "\n",
       "    .dataframe thead th {\n",
       "        text-align: right;\n",
       "    }\n",
       "</style>\n",
       "<table border=\"1\" class=\"dataframe\">\n",
       "  <thead>\n",
       "    <tr style=\"text-align: right;\">\n",
       "      <th></th>\n",
       "      <th>SPY</th>\n",
       "      <th>Industrials</th>\n",
       "      <th>Health Care</th>\n",
       "      <th>Information Technology</th>\n",
       "      <th>Communication Services</th>\n",
       "      <th>Consumer Staples</th>\n",
       "      <th>Consumer Discretionary</th>\n",
       "      <th>Utilities</th>\n",
       "      <th>Financials</th>\n",
       "      <th>Materials</th>\n",
       "      <th>Real Estate</th>\n",
       "      <th>Energy</th>\n",
       "    </tr>\n",
       "  </thead>\n",
       "  <tbody>\n",
       "    <tr>\n",
       "      <th>0</th>\n",
       "      <td>0.003134</td>\n",
       "      <td>-0.001641</td>\n",
       "      <td>0.006510</td>\n",
       "      <td>0.000045</td>\n",
       "      <td>-0.000767</td>\n",
       "      <td>0.000146</td>\n",
       "      <td>-0.000002</td>\n",
       "      <td>0.016096</td>\n",
       "      <td>-0.004232</td>\n",
       "      <td>-0.003210</td>\n",
       "      <td>0.007684</td>\n",
       "      <td>0.001140</td>\n",
       "    </tr>\n",
       "    <tr>\n",
       "      <th>1</th>\n",
       "      <td>-0.003415</td>\n",
       "      <td>-0.000804</td>\n",
       "      <td>0.000509</td>\n",
       "      <td>-0.004617</td>\n",
       "      <td>-0.004491</td>\n",
       "      <td>-0.001597</td>\n",
       "      <td>-0.002539</td>\n",
       "      <td>0.007733</td>\n",
       "      <td>0.010694</td>\n",
       "      <td>0.009282</td>\n",
       "      <td>-0.004979</td>\n",
       "      <td>0.020342</td>\n",
       "    </tr>\n",
       "    <tr>\n",
       "      <th>2</th>\n",
       "      <td>0.005027</td>\n",
       "      <td>0.000453</td>\n",
       "      <td>0.011926</td>\n",
       "      <td>0.004855</td>\n",
       "      <td>0.003417</td>\n",
       "      <td>0.005316</td>\n",
       "      <td>-0.004535</td>\n",
       "      <td>0.011355</td>\n",
       "      <td>-0.001082</td>\n",
       "      <td>0.004324</td>\n",
       "      <td>0.011913</td>\n",
       "      <td>-0.006888</td>\n",
       "    </tr>\n",
       "    <tr>\n",
       "      <th>3</th>\n",
       "      <td>-0.000072</td>\n",
       "      <td>-0.003498</td>\n",
       "      <td>0.002819</td>\n",
       "      <td>-0.002692</td>\n",
       "      <td>-0.003881</td>\n",
       "      <td>0.001754</td>\n",
       "      <td>0.002421</td>\n",
       "      <td>0.002735</td>\n",
       "      <td>-0.004246</td>\n",
       "      <td>-0.001499</td>\n",
       "      <td>-0.003487</td>\n",
       "      <td>-0.018957</td>\n",
       "    </tr>\n",
       "    <tr>\n",
       "      <th>4</th>\n",
       "      <td>-0.002522</td>\n",
       "      <td>-0.004149</td>\n",
       "      <td>-0.000356</td>\n",
       "      <td>-0.009452</td>\n",
       "      <td>-0.002727</td>\n",
       "      <td>-0.002429</td>\n",
       "      <td>-0.007847</td>\n",
       "      <td>-0.005995</td>\n",
       "      <td>-0.003404</td>\n",
       "      <td>-0.005562</td>\n",
       "      <td>0.002253</td>\n",
       "      <td>-0.001944</td>\n",
       "    </tr>\n",
       "    <tr>\n",
       "      <th>...</th>\n",
       "      <td>...</td>\n",
       "      <td>...</td>\n",
       "      <td>...</td>\n",
       "      <td>...</td>\n",
       "      <td>...</td>\n",
       "      <td>...</td>\n",
       "      <td>...</td>\n",
       "      <td>...</td>\n",
       "      <td>...</td>\n",
       "      <td>...</td>\n",
       "      <td>...</td>\n",
       "      <td>...</td>\n",
       "    </tr>\n",
       "    <tr>\n",
       "      <th>250</th>\n",
       "      <td>0.006956</td>\n",
       "      <td>0.005856</td>\n",
       "      <td>0.021049</td>\n",
       "      <td>0.005208</td>\n",
       "      <td>-0.009337</td>\n",
       "      <td>0.008555</td>\n",
       "      <td>0.004695</td>\n",
       "      <td>-0.003217</td>\n",
       "      <td>-0.001480</td>\n",
       "      <td>0.004416</td>\n",
       "      <td>-0.004456</td>\n",
       "      <td>0.002626</td>\n",
       "    </tr>\n",
       "    <tr>\n",
       "      <th>251</th>\n",
       "      <td>-0.001049</td>\n",
       "      <td>-0.005791</td>\n",
       "      <td>0.005426</td>\n",
       "      <td>-0.007141</td>\n",
       "      <td>0.001863</td>\n",
       "      <td>0.001890</td>\n",
       "      <td>0.004482</td>\n",
       "      <td>0.001318</td>\n",
       "      <td>0.002899</td>\n",
       "      <td>0.002020</td>\n",
       "      <td>0.001696</td>\n",
       "      <td>0.027976</td>\n",
       "    </tr>\n",
       "    <tr>\n",
       "      <th>252</th>\n",
       "      <td>-0.009435</td>\n",
       "      <td>-0.001636</td>\n",
       "      <td>-0.016449</td>\n",
       "      <td>-0.008222</td>\n",
       "      <td>-0.001345</td>\n",
       "      <td>-0.002333</td>\n",
       "      <td>0.006947</td>\n",
       "      <td>-0.014041</td>\n",
       "      <td>-0.002284</td>\n",
       "      <td>-0.001462</td>\n",
       "      <td>-0.010802</td>\n",
       "      <td>-0.018648</td>\n",
       "    </tr>\n",
       "    <tr>\n",
       "      <th>253</th>\n",
       "      <td>-0.010677</td>\n",
       "      <td>-0.005875</td>\n",
       "      <td>-0.009887</td>\n",
       "      <td>-0.015830</td>\n",
       "      <td>-0.014729</td>\n",
       "      <td>0.000453</td>\n",
       "      <td>-0.009666</td>\n",
       "      <td>0.006666</td>\n",
       "      <td>-0.009787</td>\n",
       "      <td>-0.003684</td>\n",
       "      <td>0.001091</td>\n",
       "      <td>-0.003254</td>\n",
       "    </tr>\n",
       "    <tr>\n",
       "      <th>254</th>\n",
       "      <td>0.012216</td>\n",
       "      <td>0.009596</td>\n",
       "      <td>0.009621</td>\n",
       "      <td>0.013019</td>\n",
       "      <td>0.016400</td>\n",
       "      <td>0.006615</td>\n",
       "      <td>0.019986</td>\n",
       "      <td>-0.002671</td>\n",
       "      <td>0.013958</td>\n",
       "      <td>0.011097</td>\n",
       "      <td>0.005808</td>\n",
       "      <td>0.002591</td>\n",
       "    </tr>\n",
       "  </tbody>\n",
       "</table>\n",
       "<p>255 rows × 12 columns</p>\n",
       "</div>"
      ],
      "text/plain": [
       "          SPY  Industrials  Health Care  Information Technology  \\\n",
       "0    0.003134    -0.001641     0.006510                0.000045   \n",
       "1   -0.003415    -0.000804     0.000509               -0.004617   \n",
       "2    0.005027     0.000453     0.011926                0.004855   \n",
       "3   -0.000072    -0.003498     0.002819               -0.002692   \n",
       "4   -0.002522    -0.004149    -0.000356               -0.009452   \n",
       "..        ...          ...          ...                     ...   \n",
       "250  0.006956     0.005856     0.021049                0.005208   \n",
       "251 -0.001049    -0.005791     0.005426               -0.007141   \n",
       "252 -0.009435    -0.001636    -0.016449               -0.008222   \n",
       "253 -0.010677    -0.005875    -0.009887               -0.015830   \n",
       "254  0.012216     0.009596     0.009621                0.013019   \n",
       "\n",
       "     Communication Services  Consumer Staples  Consumer Discretionary  \\\n",
       "0                 -0.000767          0.000146               -0.000002   \n",
       "1                 -0.004491         -0.001597               -0.002539   \n",
       "2                  0.003417          0.005316               -0.004535   \n",
       "3                 -0.003881          0.001754                0.002421   \n",
       "4                 -0.002727         -0.002429               -0.007847   \n",
       "..                      ...               ...                     ...   \n",
       "250               -0.009337          0.008555                0.004695   \n",
       "251                0.001863          0.001890                0.004482   \n",
       "252               -0.001345         -0.002333                0.006947   \n",
       "253               -0.014729          0.000453               -0.009666   \n",
       "254                0.016400          0.006615                0.019986   \n",
       "\n",
       "     Utilities  Financials  Materials  Real Estate    Energy  \n",
       "0     0.016096   -0.004232  -0.003210     0.007684  0.001140  \n",
       "1     0.007733    0.010694   0.009282    -0.004979  0.020342  \n",
       "2     0.011355   -0.001082   0.004324     0.011913 -0.006888  \n",
       "3     0.002735   -0.004246  -0.001499    -0.003487 -0.018957  \n",
       "4    -0.005995   -0.003404  -0.005562     0.002253 -0.001944  \n",
       "..         ...         ...        ...          ...       ...  \n",
       "250  -0.003217   -0.001480   0.004416    -0.004456  0.002626  \n",
       "251   0.001318    0.002899   0.002020     0.001696  0.027976  \n",
       "252  -0.014041   -0.002284  -0.001462    -0.010802 -0.018648  \n",
       "253   0.006666   -0.009787  -0.003684     0.001091 -0.003254  \n",
       "254  -0.002671    0.013958   0.011097     0.005808  0.002591  \n",
       "\n",
       "[255 rows x 12 columns]"
      ]
     },
     "execution_count": 363,
     "metadata": {},
     "output_type": "execute_result"
    }
   ],
   "source": [
    "SectorDF = pd.read_sql_table('SectorDF', engine)\n",
    "SectorDF = SectorDF.drop(columns=['timestamp'])\n",
    "SectorDF"
   ]
  },
  {
   "cell_type": "code",
   "execution_count": 364,
   "metadata": {},
   "outputs": [
    {
     "data": {
      "text/plain": [
       "0    0.003134\n",
       "1   -0.003415\n",
       "2    0.005027\n",
       "3   -0.000072\n",
       "4   -0.002522\n",
       "Name: SPY, dtype: float64"
      ]
     },
     "execution_count": 364,
     "metadata": {},
     "output_type": "execute_result"
    }
   ],
   "source": [
    "# Define the target set y using the SPY column\n",
    "y = SectorDF[\"SPY\"]\n",
    "\n",
    "# Display a sample of y\n",
    "y[:5]"
   ]
  },
  {
   "cell_type": "code",
   "execution_count": 365,
   "metadata": {},
   "outputs": [
    {
     "data": {
      "text/html": [
       "<div>\n",
       "<style scoped>\n",
       "    .dataframe tbody tr th:only-of-type {\n",
       "        vertical-align: middle;\n",
       "    }\n",
       "\n",
       "    .dataframe tbody tr th {\n",
       "        vertical-align: top;\n",
       "    }\n",
       "\n",
       "    .dataframe thead th {\n",
       "        text-align: right;\n",
       "    }\n",
       "</style>\n",
       "<table border=\"1\" class=\"dataframe\">\n",
       "  <thead>\n",
       "    <tr style=\"text-align: right;\">\n",
       "      <th></th>\n",
       "      <th>Industrials</th>\n",
       "      <th>Health Care</th>\n",
       "      <th>Information Technology</th>\n",
       "      <th>Communication Services</th>\n",
       "      <th>Consumer Staples</th>\n",
       "      <th>Consumer Discretionary</th>\n",
       "      <th>Utilities</th>\n",
       "      <th>Financials</th>\n",
       "      <th>Materials</th>\n",
       "      <th>Real Estate</th>\n",
       "      <th>Energy</th>\n",
       "    </tr>\n",
       "  </thead>\n",
       "  <tbody>\n",
       "    <tr>\n",
       "      <th>0</th>\n",
       "      <td>-0.001641</td>\n",
       "      <td>0.006510</td>\n",
       "      <td>0.000045</td>\n",
       "      <td>-0.000767</td>\n",
       "      <td>0.000146</td>\n",
       "      <td>-0.000002</td>\n",
       "      <td>0.016096</td>\n",
       "      <td>-0.004232</td>\n",
       "      <td>-0.003210</td>\n",
       "      <td>0.007684</td>\n",
       "      <td>0.001140</td>\n",
       "    </tr>\n",
       "    <tr>\n",
       "      <th>1</th>\n",
       "      <td>-0.000804</td>\n",
       "      <td>0.000509</td>\n",
       "      <td>-0.004617</td>\n",
       "      <td>-0.004491</td>\n",
       "      <td>-0.001597</td>\n",
       "      <td>-0.002539</td>\n",
       "      <td>0.007733</td>\n",
       "      <td>0.010694</td>\n",
       "      <td>0.009282</td>\n",
       "      <td>-0.004979</td>\n",
       "      <td>0.020342</td>\n",
       "    </tr>\n",
       "    <tr>\n",
       "      <th>2</th>\n",
       "      <td>0.000453</td>\n",
       "      <td>0.011926</td>\n",
       "      <td>0.004855</td>\n",
       "      <td>0.003417</td>\n",
       "      <td>0.005316</td>\n",
       "      <td>-0.004535</td>\n",
       "      <td>0.011355</td>\n",
       "      <td>-0.001082</td>\n",
       "      <td>0.004324</td>\n",
       "      <td>0.011913</td>\n",
       "      <td>-0.006888</td>\n",
       "    </tr>\n",
       "    <tr>\n",
       "      <th>3</th>\n",
       "      <td>-0.003498</td>\n",
       "      <td>0.002819</td>\n",
       "      <td>-0.002692</td>\n",
       "      <td>-0.003881</td>\n",
       "      <td>0.001754</td>\n",
       "      <td>0.002421</td>\n",
       "      <td>0.002735</td>\n",
       "      <td>-0.004246</td>\n",
       "      <td>-0.001499</td>\n",
       "      <td>-0.003487</td>\n",
       "      <td>-0.018957</td>\n",
       "    </tr>\n",
       "    <tr>\n",
       "      <th>4</th>\n",
       "      <td>-0.004149</td>\n",
       "      <td>-0.000356</td>\n",
       "      <td>-0.009452</td>\n",
       "      <td>-0.002727</td>\n",
       "      <td>-0.002429</td>\n",
       "      <td>-0.007847</td>\n",
       "      <td>-0.005995</td>\n",
       "      <td>-0.003404</td>\n",
       "      <td>-0.005562</td>\n",
       "      <td>0.002253</td>\n",
       "      <td>-0.001944</td>\n",
       "    </tr>\n",
       "  </tbody>\n",
       "</table>\n",
       "</div>"
      ],
      "text/plain": [
       "   Industrials  Health Care  Information Technology  Communication Services  \\\n",
       "0    -0.001641     0.006510                0.000045               -0.000767   \n",
       "1    -0.000804     0.000509               -0.004617               -0.004491   \n",
       "2     0.000453     0.011926                0.004855                0.003417   \n",
       "3    -0.003498     0.002819               -0.002692               -0.003881   \n",
       "4    -0.004149    -0.000356               -0.009452               -0.002727   \n",
       "\n",
       "   Consumer Staples  Consumer Discretionary  Utilities  Financials  Materials  \\\n",
       "0          0.000146               -0.000002   0.016096   -0.004232  -0.003210   \n",
       "1         -0.001597               -0.002539   0.007733    0.010694   0.009282   \n",
       "2          0.005316               -0.004535   0.011355   -0.001082   0.004324   \n",
       "3          0.001754                0.002421   0.002735   -0.004246  -0.001499   \n",
       "4         -0.002429               -0.007847  -0.005995   -0.003404  -0.005562   \n",
       "\n",
       "   Real Estate    Energy  \n",
       "0     0.007684  0.001140  \n",
       "1    -0.004979  0.020342  \n",
       "2     0.011913 -0.006888  \n",
       "3    -0.003487 -0.018957  \n",
       "4     0.002253 -0.001944  "
      ]
     },
     "execution_count": 365,
     "metadata": {},
     "output_type": "execute_result"
    }
   ],
   "source": [
    "# Define features set X by selecting all columns but SPY\n",
    "X = SectorDF.drop(columns=[\"SPY\"])\n",
    "\n",
    "# Review the features DataFrame\n",
    "X.head()"
   ]
  },
  {
   "cell_type": "code",
   "execution_count": 366,
   "metadata": {},
   "outputs": [],
   "source": [
    "# Split the preprocessed data into a training and testing dataset\n",
    "# Assign the function a random_state equal to 1\n",
    "X_train, X_test, y_train, y_test = train_test_split(X, y, random_state=1)"
   ]
  },
  {
   "cell_type": "code",
   "execution_count": 367,
   "metadata": {},
   "outputs": [],
   "source": [
    "# Create a StandardScaler instance\n",
    "scaler = StandardScaler()\n",
    "\n",
    "# Fit the scaler to the features training dataset\n",
    "X_scaler = scaler.fit(X_train)\n",
    "\n",
    "# Fit the scaler to the features training dataset\n",
    "X_train_scaled = X_scaler.transform(X_train)\n",
    "X_test_scaled = X_scaler.transform(X_test)"
   ]
  },
  {
   "cell_type": "code",
   "execution_count": 368,
   "metadata": {},
   "outputs": [],
   "source": [
    "# Define the the number of inputs (features) to the model\n",
    "number_input_features = len(X.iloc[0])\n",
    "\n",
    "# Review the number of features\n",
    "number_input_features = 11"
   ]
  },
  {
   "cell_type": "code",
   "execution_count": 369,
   "metadata": {},
   "outputs": [],
   "source": [
    "# Define the number of neurons in the output layer\n",
    "number_output_neurons = 1"
   ]
  },
  {
   "cell_type": "code",
   "execution_count": 370,
   "metadata": {},
   "outputs": [
    {
     "data": {
      "text/plain": [
       "6"
      ]
     },
     "execution_count": 370,
     "metadata": {},
     "output_type": "execute_result"
    }
   ],
   "source": [
    "# Define the number of hidden nodes for the first hidden layer\n",
    "hidden_nodes_layer1 = (number_input_features + 1) // 2 \n",
    "\n",
    "# Review the number hidden nodes in the first layer\n",
    "hidden_nodes_layer1"
   ]
  },
  {
   "cell_type": "code",
   "execution_count": 371,
   "metadata": {},
   "outputs": [
    {
     "data": {
      "text/plain": [
       "3"
      ]
     },
     "execution_count": 371,
     "metadata": {},
     "output_type": "execute_result"
    }
   ],
   "source": [
    "# Define the number of hidden nodes for the second hidden layer\n",
    "hidden_nodes_layer2 = (hidden_nodes_layer1 + 1) // 2\n",
    "\n",
    "# Review the number hidden nodes in the second layer\n",
    "hidden_nodes_layer2"
   ]
  },
  {
   "cell_type": "code",
   "execution_count": 372,
   "metadata": {},
   "outputs": [],
   "source": [
    "# Create the Sequential model instance\n",
    "nn = Sequential()"
   ]
  },
  {
   "cell_type": "code",
   "execution_count": 373,
   "metadata": {},
   "outputs": [],
   "source": [
    "# Add the first hidden layer\n",
    "nn.add(Dense(units=hidden_nodes_layer1, input_dim=number_input_features, activation=\"relu\"))"
   ]
  },
  {
   "cell_type": "code",
   "execution_count": 374,
   "metadata": {},
   "outputs": [],
   "source": [
    "# Add the second hidden layer\n",
    "nn.add(Dense(units=hidden_nodes_layer2, activation=\"relu\"))"
   ]
  },
  {
   "cell_type": "code",
   "execution_count": 375,
   "metadata": {},
   "outputs": [],
   "source": [
    "# Add the output layer to the model specifying the number of output neurons and activation function\n",
    "nn.add(Dense(units=number_output_neurons, activation=\"sigmoid\"))"
   ]
  },
  {
   "cell_type": "code",
   "execution_count": 376,
   "metadata": {},
   "outputs": [
    {
     "name": "stdout",
     "output_type": "stream",
     "text": [
      "Model: \"sequential_18\"\n",
      "_________________________________________________________________\n",
      " Layer (type)                Output Shape              Param #   \n",
      "=================================================================\n",
      " dense_79 (Dense)            (None, 6)                 72        \n",
      "                                                                 \n",
      " dense_80 (Dense)            (None, 3)                 21        \n",
      "                                                                 \n",
      " dense_81 (Dense)            (None, 1)                 4         \n",
      "                                                                 \n",
      "=================================================================\n",
      "Total params: 97\n",
      "Trainable params: 97\n",
      "Non-trainable params: 0\n",
      "_________________________________________________________________\n"
     ]
    }
   ],
   "source": [
    "# Display the Sequential model summary\n",
    "nn.summary()"
   ]
  },
  {
   "cell_type": "code",
   "execution_count": 377,
   "metadata": {},
   "outputs": [],
   "source": [
    "# Compile the Sequential model\n",
    "nn.compile(loss=\"binary_crossentropy\", optimizer=\"adam\", metrics=[\"accuracy\"])"
   ]
  },
  {
   "cell_type": "code",
   "execution_count": 378,
   "metadata": {},
   "outputs": [
    {
     "name": "stdout",
     "output_type": "stream",
     "text": [
      "Epoch 1/50\n",
      "6/6 [==============================] - 0s 1ms/step - loss: 0.6229 - accuracy: 0.0052\n",
      "Epoch 2/50\n",
      "6/6 [==============================] - 0s 2ms/step - loss: 0.6091 - accuracy: 0.0052\n",
      "Epoch 3/50\n",
      "6/6 [==============================] - 0s 1ms/step - loss: 0.5956 - accuracy: 0.0052\n",
      "Epoch 4/50\n",
      "6/6 [==============================] - 0s 2ms/step - loss: 0.5826 - accuracy: 0.0052\n",
      "Epoch 5/50\n",
      "6/6 [==============================] - 0s 2ms/step - loss: 0.5697 - accuracy: 0.0052\n",
      "Epoch 6/50\n",
      "6/6 [==============================] - 0s 2ms/step - loss: 0.5571 - accuracy: 0.0052\n",
      "Epoch 7/50\n",
      "6/6 [==============================] - 0s 2ms/step - loss: 0.5444 - accuracy: 0.0052\n",
      "Epoch 8/50\n",
      "6/6 [==============================] - 0s 2ms/step - loss: 0.5317 - accuracy: 0.0052\n",
      "Epoch 9/50\n",
      "6/6 [==============================] - 0s 2ms/step - loss: 0.5183 - accuracy: 0.0052\n",
      "Epoch 10/50\n",
      "6/6 [==============================] - 0s 2ms/step - loss: 0.5041 - accuracy: 0.0052\n",
      "Epoch 11/50\n",
      "6/6 [==============================] - 0s 2ms/step - loss: 0.4891 - accuracy: 0.0052\n",
      "Epoch 12/50\n",
      "6/6 [==============================] - 0s 2ms/step - loss: 0.4726 - accuracy: 0.0052\n",
      "Epoch 13/50\n",
      "6/6 [==============================] - 0s 2ms/step - loss: 0.4560 - accuracy: 0.0052\n",
      "Epoch 14/50\n",
      "6/6 [==============================] - 0s 2ms/step - loss: 0.4388 - accuracy: 0.0052\n",
      "Epoch 15/50\n",
      "6/6 [==============================] - 0s 2ms/step - loss: 0.4214 - accuracy: 0.0052\n",
      "Epoch 16/50\n",
      "6/6 [==============================] - 0s 2ms/step - loss: 0.4034 - accuracy: 0.0052\n",
      "Epoch 17/50\n",
      "6/6 [==============================] - 0s 2ms/step - loss: 0.3860 - accuracy: 0.0052\n",
      "Epoch 18/50\n",
      "6/6 [==============================] - 0s 2ms/step - loss: 0.3690 - accuracy: 0.0052\n",
      "Epoch 19/50\n",
      "6/6 [==============================] - 0s 3ms/step - loss: 0.3526 - accuracy: 0.0052\n",
      "Epoch 20/50\n",
      "6/6 [==============================] - 0s 2ms/step - loss: 0.3367 - accuracy: 0.0052\n",
      "Epoch 21/50\n",
      "6/6 [==============================] - 0s 2ms/step - loss: 0.3210 - accuracy: 0.0052\n",
      "Epoch 22/50\n",
      "6/6 [==============================] - 0s 2ms/step - loss: 0.3062 - accuracy: 0.0052\n",
      "Epoch 23/50\n",
      "6/6 [==============================] - 0s 2ms/step - loss: 0.2918 - accuracy: 0.0052\n",
      "Epoch 24/50\n",
      "6/6 [==============================] - 0s 2ms/step - loss: 0.2776 - accuracy: 0.0052\n",
      "Epoch 25/50\n",
      "6/6 [==============================] - 0s 2ms/step - loss: 0.2640 - accuracy: 0.0052\n",
      "Epoch 26/50\n",
      "6/6 [==============================] - 0s 2ms/step - loss: 0.2516 - accuracy: 0.0052\n",
      "Epoch 27/50\n",
      "6/6 [==============================] - 0s 2ms/step - loss: 0.2391 - accuracy: 0.0052\n",
      "Epoch 28/50\n",
      "6/6 [==============================] - 0s 2ms/step - loss: 0.2273 - accuracy: 0.0052\n",
      "Epoch 29/50\n",
      "6/6 [==============================] - 0s 2ms/step - loss: 0.2161 - accuracy: 0.0052\n",
      "Epoch 30/50\n",
      "6/6 [==============================] - 0s 2ms/step - loss: 0.2055 - accuracy: 0.0052\n",
      "Epoch 31/50\n",
      "6/6 [==============================] - 0s 2ms/step - loss: 0.1952 - accuracy: 0.0052\n",
      "Epoch 32/50\n",
      "6/6 [==============================] - 0s 2ms/step - loss: 0.1856 - accuracy: 0.0052\n",
      "Epoch 33/50\n",
      "6/6 [==============================] - 0s 2ms/step - loss: 0.1767 - accuracy: 0.0052\n",
      "Epoch 34/50\n",
      "6/6 [==============================] - 0s 2ms/step - loss: 0.1681 - accuracy: 0.0052\n",
      "Epoch 35/50\n",
      "6/6 [==============================] - 0s 2ms/step - loss: 0.1601 - accuracy: 0.0052\n",
      "Epoch 36/50\n",
      "6/6 [==============================] - 0s 5ms/step - loss: 0.1526 - accuracy: 0.0052\n",
      "Epoch 37/50\n",
      "6/6 [==============================] - 0s 3ms/step - loss: 0.1455 - accuracy: 0.0052\n",
      "Epoch 38/50\n",
      "6/6 [==============================] - 0s 4ms/step - loss: 0.1388 - accuracy: 0.0052\n",
      "Epoch 39/50\n",
      "6/6 [==============================] - 0s 5ms/step - loss: 0.1326 - accuracy: 0.0052\n",
      "Epoch 40/50\n",
      "6/6 [==============================] - 0s 4ms/step - loss: 0.1267 - accuracy: 0.0052\n",
      "Epoch 41/50\n",
      "6/6 [==============================] - 0s 3ms/step - loss: 0.1211 - accuracy: 0.0052\n",
      "Epoch 42/50\n",
      "6/6 [==============================] - 0s 3ms/step - loss: 0.1157 - accuracy: 0.0052\n",
      "Epoch 43/50\n",
      "6/6 [==============================] - 0s 3ms/step - loss: 0.1108 - accuracy: 0.0052\n",
      "Epoch 44/50\n",
      "6/6 [==============================] - 0s 2ms/step - loss: 0.1060 - accuracy: 0.0052\n",
      "Epoch 45/50\n",
      "6/6 [==============================] - 0s 2ms/step - loss: 0.1016 - accuracy: 0.0052\n",
      "Epoch 46/50\n",
      "6/6 [==============================] - 0s 9ms/step - loss: 0.0974 - accuracy: 0.0052\n",
      "Epoch 47/50\n",
      "6/6 [==============================] - 0s 8ms/step - loss: 0.0935 - accuracy: 0.0052\n",
      "Epoch 48/50\n",
      "6/6 [==============================] - 0s 3ms/step - loss: 0.0896 - accuracy: 0.0052\n",
      "Epoch 49/50\n",
      "6/6 [==============================] - 0s 2ms/step - loss: 0.0862 - accuracy: 0.0052\n",
      "Epoch 50/50\n",
      "6/6 [==============================] - 0s 2ms/step - loss: 0.0829 - accuracy: 0.0052\n"
     ]
    }
   ],
   "source": [
    "# Fit the model using 500 epochs and the training data\n",
    "fit_model = nn.fit(X_train_scaled, y_train, epochs=50)"
   ]
  },
  {
   "cell_type": "code",
   "execution_count": 379,
   "metadata": {},
   "outputs": [
    {
     "name": "stdout",
     "output_type": "stream",
     "text": [
      "2/2 - 0s - loss: 0.0779 - accuracy: 0.0000e+00 - 133ms/epoch - 66ms/step\n",
      "Loss: 0.07788854092359543, Accuracy: 0.0\n"
     ]
    }
   ],
   "source": [
    "# Evaluate the model loss and accuracy metrics using the evaluate method and the test data\n",
    "model_loss, model_accuracy = nn.evaluate(X_test_scaled,y_test,verbose=2)\n",
    "\n",
    "# Display the model loss and accuracy results\n",
    "print(f\"Loss: {model_loss}, Accuracy: {model_accuracy}\")"
   ]
  },
  {
   "cell_type": "code",
   "execution_count": 380,
   "metadata": {},
   "outputs": [],
   "source": [
    "# Create a DataFrame using the model history and an index parameter\n",
    "model_plot = pd.DataFrame(fit_model.history, index=range(1, len(fit_model.history[\"loss\"]) + 1))"
   ]
  },
  {
   "cell_type": "code",
   "execution_count": 381,
   "metadata": {},
   "outputs": [
    {
     "data": {
      "text/plain": [
       "<AxesSubplot:>"
      ]
     },
     "execution_count": 381,
     "metadata": {},
     "output_type": "execute_result"
    },
    {
     "data": {
      "image/png": "[encoded data removed]",
      "text/plain": [
       "<Figure size 432x288 with 1 Axes>"
      ]
     },
     "metadata": {
      "needs_background": "light"
     },
     "output_type": "display_data"
    }
   ],
   "source": [
    "# Vizualize the model plot where the y-axis displays the loss metric\n",
    "model_plot.plot(y=\"loss\")"
   ]
  },
  {
   "cell_type": "code",
   "execution_count": 382,
   "metadata": {},
   "outputs": [
    {
     "data": {
      "text/plain": [
       "<AxesSubplot:>"
      ]
     },
     "execution_count": 382,
     "metadata": {},
     "output_type": "execute_result"
    },
    {
     "data": {
      "image/png": "[encoded data removed]",
      "text/plain": [
       "<Figure size 432x288 with 1 Axes>"
      ]
     },
     "metadata": {
      "needs_background": "light"
     },
     "output_type": "display_data"
    }
   ],
   "source": [
    "# Vizualize the model plot where the y-axis displays the accuracy metric\n",
    "model_plot.plot(y=\"accuracy\")"
   ]
  },
  {
   "cell_type": "code",
   "execution_count": null,
   "metadata": {},
   "outputs": [],
   "source": []
  }
 ],
 "metadata": {
  "interpreter": {
   "hash": "2be5faf79681da6f2a61fdfdd5405d65d042280f7fba6178067603e3a2925119"
  },
  "kernelspec": {
   "display_name": "Python 3",
   "language": "python",
   "name": "python3"
  },
  "language_info": {
   "codemirror_mode": {
    "name": "ipython",
    "version": 3
   },
   "file_extension": ".py",
   "mimetype": "text/x-python",
   "name": "python",
   "nbconvert_exporter": "python",
   "pygments_lexer": "ipython3",
   "version": "3.7.10"
  }
 },
 "nbformat": 4,
 "nbformat_minor": 4
}
